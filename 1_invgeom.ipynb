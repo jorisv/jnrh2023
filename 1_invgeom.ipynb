{
 "cells": [
  {
   "cell_type": "markdown",
   "metadata": {},
   "source": [
    "# Inverse geometry\n",
    "\n",
    "Inverse geometry is the problem of computing a configuration $q$ of a robot model that satisfies a set of 'tasks', which we formalize as error functions $e(q)$ that are zero when the task is achieved.\n",
    "\n",
    "- $q \\in \\mathcal{C}$: configuration of the robot.\n",
    "- $e_i(q) \\in \\mathbb{R}$: error function for task $i$. In this tutorial our error function is real valued.\n",
    "\n",
    "Typical tasks for limbed robots include putting a foot/end-effector on a surface, moving the center of mass (CoM) to a target location, etc. For example, an error function for a foot position task could be:\n",
    "\n",
    "$$\n",
    "e(q) = \\|p_\\mathrm{foot}^* - p_\\mathrm{foot}(q)\\|\n",
    "$$\n",
    "\n",
    "In this tutorial, we will define a task function $e(q)$ for the end-effector pose of a manipulator and solve the inverse geometry problem\n",
    "\n",
    "$$\n",
    "\\underset{q}{\\mathrm{minimize}}\\ e(q)\n",
    "$$\n",
    "\n",
    "using an off-the-shelf nonlinear optimizer that evaluates gradients by finite differences (slower), then a more efficient formulation using CasADi (faster)."
   ]
  },
  {
   "cell_type": "markdown",
   "metadata": {},
   "source": [
    "## Before we start...\n",
    "\n",
    "%load is a \"magic\" command of Jupyter. When we will invite you to think to a solution by yourselves, we will indicate it by the %do_not_load command. Feel free to transform it to a plain %load if you want the answer. This is define in the following import."
   ]
  },
  {
   "cell_type": "code",
   "execution_count": 1,
   "metadata": {},
   "outputs": [
    {
     "name": "stdout",
     "output_type": "stream",
     "text": [
      "NB: as for all the tutorials, a magic command %do_not_load is introduced to hide the solutions to some questions. Change it for %load if you want to see (and execute) the solution.\n"
     ]
    }
   ],
   "source": [
    "import magic_donotload"
   ]
  },
  {
   "cell_type": "markdown",
   "metadata": {},
   "source": [
    "Let's import everything we will need in this tutorial:"
   ]
  },
  {
   "cell_type": "code",
   "execution_count": 2,
   "metadata": {},
   "outputs": [],
   "source": [
    "# %load tp1/generated/invgeom_imports\n",
    "import time\n",
    "import unittest\n",
    "import casadi\n",
    "import tp1.meshcat_shapes as meshcat_shapes\n",
    "from utils.slider import Slider\n",
    "import example_robot_data as robex\n",
    "import meshcat\n",
    "import numpy as np\n",
    "import pinocchio as pin\n",
    "from numpy.linalg import norm\n",
    "from scipy.optimize import fmin_bfgs"
   ]
  },
  {
   "cell_type": "markdown",
   "metadata": {},
   "source": [
    "## Set up\n",
    "\n",
    "Let us start by loading the UR5 robot model from `example-robot-data` and define its neutral configuration as follows:"
   ]
  },
  {
   "cell_type": "code",
   "execution_count": 3,
   "metadata": {},
   "outputs": [],
   "source": [
    "# %load tp1/generated/invgeom_robot\n",
    "robot = robex.load(\"ur5\")\n",
    "robot.q0 = np.array([0, -np.pi / 2, 0, 0, 0, 0])\n",
    "model = robot.model\n",
    "data = robot.data"
   ]
  },
  {
   "cell_type": "markdown",
   "metadata": {},
   "source": [
    "We will also use the MeshCat visualizer to watch the optimization unfold. Let's set up a visualizer for our robot model:"
   ]
  },
  {
   "cell_type": "code",
   "execution_count": 4,
   "metadata": {},
   "outputs": [
    {
     "name": "stdout",
     "output_type": "stream",
     "text": [
      "You can open the visualizer by visiting the following URL:\n",
      "http://127.0.0.1:7000/static/\n"
     ]
    }
   ],
   "source": [
    "# %load tp1/generated/invgeom_visualizer\n",
    "viz = pin.visualize.MeshcatVisualizer(\n",
    "    robot.model, robot.collision_model, robot.visual_model\n",
    ")\n",
    "robot.setVisualizer(viz, init=False)\n",
    "viz.initViewer(open=False)\n",
    "viz.loadViewerModel()\n",
    "viz.display(robot.q0)"
   ]
  },
  {
   "cell_type": "code",
   "execution_count": 5,
   "metadata": {},
   "outputs": [
    {
     "data": {
      "text/html": [
       "\n",
       "            <div style=\"height: 400px; width: 100%; overflow-x: auto; overflow-y: hidden; resize: both\">\n",
       "            <iframe src=\"http://127.0.0.1:7000/static/\" style=\"width: 100%; height: 100%; border: none\"></iframe>\n",
       "            </div>\n",
       "            "
      ],
      "text/plain": [
       "<IPython.core.display.HTML object>"
      ]
     },
     "execution_count": 5,
     "metadata": {},
     "output_type": "execute_result"
    }
   ],
   "source": [
    "viz.viewer.jupyter_cell()"
   ]
  },
  {
   "cell_type": "markdown",
   "metadata": {},
   "source": [
    "## Part 1: BFGS with finite difference\n",
    "\n",
    "In this first part, we will define an inverse geometry problem for the UR5 and use the BFGS optimizer from [`scipy.optimize.fmin_bfgs`](https://docs.scipy.org/doc/scipy/reference/generated/scipy.optimize.fmin_bfgs.html#scipy-optimize-fmin-bfgs) to solve it.\n",
    "\n",
    "### Task target\n",
    "\n",
    "Our task will be to move the end effector *frame* of the UR5 to a desired pose (pose := position + orientation). For this purpose, we define:\n",
    "\n",
    "- The name of the corresponding frame, which is ``\"tool0\"`` for the UR5.\n",
    "- The target pose of this frame, which we define by an affine transform ${}_{world} M_{target} \\in SE(3)$ (also known as a \"placement\").\n",
    "\n",
    "The robot will start from an arbitrary initial configuration (hint: to make the solver's life easier, avoid the singular $[0\\ 0\\ \\ldots\\ 0]$ configuration) $q_0$."
   ]
  },
  {
   "cell_type": "code",
   "execution_count": 6,
   "metadata": {},
   "outputs": [],
   "source": [
    "# %load tp1/generated/invgeom_task_params\n",
    "tool_id = model.getFrameId(\"tool0\")\n",
    "\n",
    "transform_target_to_world = pin.SE3(\n",
    "    pin.utils.rotate(\"x\", np.pi / 4),\n",
    "    np.array([-0.5, 0.1, 0.2]),\n",
    ")"
   ]
  },
  {
   "cell_type": "markdown",
   "metadata": {},
   "source": [
    "### Task error\n",
    "\n",
    "For a given robot configuration $q$, the end effector will be located at ${}_{world} M_{tool}(q)$, which is a function of $q$ we can compute with Pinocchio's forward kinematics function. The goal of our task will be to make ${}_{world} M_{tool}(q)$ coincide with ${}_{world} M_{target}$, which we can define mathematically as: minimize the (Lie-group) difference ${}_{world} M_{target} \\ominus {}_{world} M_{tool}(q)$, or equivalently:\n",
    "\n",
    "$$\n",
    "\\underset{q}{\\mathrm{minimize}} \\ e(q) := \\| {}_{world} M_{target} \\ominus {}_{world} M_{tool}(q) \\|\n",
    "$$\n",
    "\n",
    "Remember the definition of the $\\ominus$ (left) Lie-group difference? No? Let's write it in Python anyway!"
   ]
  },
  {
   "cell_type": "code",
   "execution_count": 7,
   "metadata": {},
   "outputs": [],
   "source": [
    "# %load tp1/generated/invgeom_error_function\n",
    "\n",
    "\n",
    "def error(q: np.ndarray) -> float:\n",
    "    \"\"\"Function that the final configuration should minimize.\"\"\"\n",
    "    pin.framesForwardKinematics(model, data, q)\n",
    "    transform_tool_to_world = data.oMf[tool_id]\n",
    "    return norm(\n",
    "        pin.log(transform_tool_to_world.inverse() * transform_target_to_world).vector\n",
    "    )"
   ]
  },
  {
   "cell_type": "markdown",
   "metadata": {},
   "source": [
    "### Sidetrack: visualization\n",
    "\n"
   ]
  },
  {
   "cell_type": "code",
   "execution_count": 8,
   "metadata": {},
   "outputs": [],
   "source": [
    "# %load tp1/generated/invgeom_visualizer_callback\n",
    "viewer = viz.viewer\n",
    "meshcat_shapes.frame(viewer[\"target\"], opacity=1.0)\n",
    "meshcat_shapes.frame(viewer[\"current\"], opacity=0.5)\n",
    "\n",
    "def callback(q: np.ndarray):\n",
    "    pin.framesForwardKinematics(model, data, q)\n",
    "    transform_frame_to_world = data.oMf[tool_id]\n",
    "    viewer[\"target\"].set_transform(transform_target_to_world.np)\n",
    "    viewer[\"current\"].set_transform(transform_frame_to_world.np)\n",
    "    viz.display(q)\n",
    "\n",
    "slider = Slider()\n",
    "slider.set_interaction(callback)"
   ]
  },
  {
   "cell_type": "markdown",
   "metadata": {},
   "source": [
    "We are now ready to optimize for real!"
   ]
  },
  {
   "cell_type": "markdown",
   "metadata": {},
   "source": [
    "### BFGS optimization"
   ]
  },
  {
   "cell_type": "code",
   "execution_count": 9,
   "metadata": {},
   "outputs": [
    {
     "name": "stdout",
     "output_type": "stream",
     "text": [
      "         Current function value: 0.000000\n",
      "         Iterations: 70\n",
      "         Function evaluations: 950\n",
      "         Gradient evaluations: 134\n",
      "The robot finally reached effector placement at\n",
      "   R =\n",
      "           1 -1.85221e-08 -6.13476e-09\n",
      " -1.7435e-08    -0.707107    -0.707107\n",
      " 8.75918e-09     0.707107    -0.707107\n",
      "  p =     -0.5 0.158195 0.141805\n",
      "\n"
     ]
    },
    {
     "name": "stderr",
     "output_type": "stream",
     "text": [
      "/home/matheecs/Code/jnrh2023/myenv/lib/python3.10/site-packages/scipy/optimize/_optimize.py:1360: OptimizeWarning: Desired error not necessarily achieved due to precision loss.\n",
      "  res = _minimize_bfgs(f, x0, args, fprime, callback=callback, **opts)\n"
     ]
    }
   ],
   "source": [
    "# %load tp1/generated/invgeom_fmin_bfgs\n",
    "qguess = np.array([0.12, -2.2, -1.45, 1.82, -0.95, 0.17])\n",
    "slider.reset()\n",
    "qopt = fmin_bfgs(error, qguess, callback=slider.append_q)\n",
    "slider.update()\n",
    "\n",
    "print(\n",
    "    \"The robot finally reached effector placement at\\n\",\n",
    "    robot.placement(qopt, 6),\n",
    ")"
   ]
  },
  {
   "cell_type": "code",
   "execution_count": 12,
   "metadata": {},
   "outputs": [
    {
     "data": {
      "text/html": [
       "\n",
       "            <div style=\"height: 400px; width: 100%; overflow-x: auto; overflow-y: hidden; resize: both\">\n",
       "            <iframe src=\"http://127.0.0.1:7000/static/\" style=\"width: 100%; height: 100%; border: none\"></iframe>\n",
       "            </div>\n",
       "            "
      ],
      "text/plain": [
       "<IPython.core.display.HTML object>"
      ]
     },
     "execution_count": 12,
     "metadata": {},
     "output_type": "execute_result"
    }
   ],
   "source": [
    "viz.viewer.jupyter_cell()"
   ]
  },
  {
   "cell_type": "code",
   "execution_count": 13,
   "metadata": {},
   "outputs": [
    {
     "data": {
      "application/vnd.jupyter.widget-view+json": {
       "model_id": "9747193d16c344b499fcb4b5c5fda530",
       "version_major": 2,
       "version_minor": 0
      },
      "text/plain": [
       "IntSlider(value=0, max=69)"
      ]
     },
     "metadata": {},
     "output_type": "display_data"
    }
   ],
   "source": [
    "slider.display()"
   ]
  },
  {
   "cell_type": "markdown",
   "metadata": {},
   "source": [
    "If everything went well, our robot converged to a configuration $q$ that achieves the desired end effector placement, *i.e.* $e(q) \\approx 0 \\Leftrightarrow {}_{world} M_{target} \\approx {{}_{world} M_{tool}}(q)$."
   ]
  },
  {
   "cell_type": "markdown",
   "metadata": {},
   "source": [
    "## Part 2: IPOPT with automatic differentiation"
   ]
  },
  {
   "cell_type": "markdown",
   "metadata": {},
   "source": [
    "We wil now define our problem in [CasADi](https://web.casadi.org), a framework that allows us to formulate problems as computation graphs from which it can compute derivatives (notably first-order derivatives, *a.k.a.* gradients, and second-order derivatives, *a.k.a.* Hessians) automatically. This feature is called *automatic differentiation*."
   ]
  },
  {
   "cell_type": "markdown",
   "metadata": {},
   "source": [
    "### Modelling with CasADi\n",
    "\n",
    "Pinocchio, in the version 3 we are using in today's tutorial, provides a `pinocchio.casadi` interface to represent configurations (such as $q \\in \\mathcal{C}$ or $M \\in SE(3)$) in CasADi computation graphs, and differentiate them appropriately."
   ]
  },
  {
   "cell_type": "code",
   "execution_count": 10,
   "metadata": {},
   "outputs": [],
   "source": [
    "# %load tp1/generated/invgeom_casadi_imports\n",
    "import casadi\n",
    "from pinocchio import casadi as cpin"
   ]
  },
  {
   "cell_type": "markdown",
   "metadata": {},
   "source": [
    "CasADi being designed for Euclidean variables, differentiating properly over manifolds is not as straightforward as representing everything as matrices and vectors in $\\mathbb{R}^n$ and taking their usual derivatives. Pinocchio allows us to take derivatives over manifolds properly, without worrying about what happens below the surface. To be able to do that, we first need to redefine our model as a CasADi one:"
   ]
  },
  {
   "cell_type": "code",
   "execution_count": 11,
   "metadata": {},
   "outputs": [],
   "source": [
    "# %load tp1/generated/invgeom_casadi_model\n",
    "cmodel = cpin.Model(model)\n",
    "cdata = cmodel.createData()"
   ]
  },
  {
   "cell_type": "markdown",
   "metadata": {},
   "source": [
    "Our configuration variable $q$ is now a CasADi ``SX`` symbol of size $n_q$:"
   ]
  },
  {
   "cell_type": "code",
   "execution_count": 12,
   "metadata": {},
   "outputs": [],
   "source": [
    "# %load tp1/generated/invgeom_cq\n",
    "cq = casadi.SX.sym(\"q\", model.nq, 1)"
   ]
  },
  {
   "cell_type": "markdown",
   "metadata": {},
   "source": [
    "We complete the computation graph from ``cmodel`` to ``cq`` by calling the corresponding forward-kinematics function:"
   ]
  },
  {
   "cell_type": "code",
   "execution_count": 13,
   "metadata": {},
   "outputs": [],
   "source": [
    "# %load tp1/generated/invgeom_casadi_fk\n",
    "cpin.framesForwardKinematics(cmodel, cdata, cq)"
   ]
  },
  {
   "cell_type": "markdown",
   "metadata": {},
   "source": [
    "### Task error\n",
    "\n",
    "We define the same task error as above:\n",
    "\n",
    "$$\n",
    "\\underset{q}{\\mathrm{minimize}} \\ e(q) := \\| {}_{world} M_{target} \\ominus {}_{world} M_{tool}(q) \\|\n",
    "$$\n",
    "\n",
    "But this time as a CasADi function:"
   ]
  },
  {
   "cell_type": "code",
   "execution_count": 14,
   "metadata": {},
   "outputs": [],
   "source": [
    "# %load tp1/generated/invgeom_casadi_error\n",
    "error_tool = casadi.Function(\n",
    "    \"etool\",\n",
    "    [cq],\n",
    "    [\n",
    "        cpin.log6(\n",
    "            cdata.oMf[tool_id].inverse() * cpin.SE3(transform_target_to_world)\n",
    "        ).vector\n",
    "    ],\n",
    ")"
   ]
  },
  {
   "cell_type": "markdown",
   "metadata": {},
   "source": [
    "Finally, we define a computation graph from our optimization variable to our error function:"
   ]
  },
  {
   "cell_type": "code",
   "execution_count": 15,
   "metadata": {},
   "outputs": [],
   "source": [
    "# %load tp1/generated/invgeom_casadi_computation_graph\n",
    "opti = casadi.Opti()\n",
    "var_q = opti.variable(model.nq)\n",
    "totalcost = casadi.sumsqr(error_tool(var_q))"
   ]
  },
  {
   "cell_type": "markdown",
   "metadata": {},
   "source": [
    "### IPOPT optimization"
   ]
  },
  {
   "cell_type": "code",
   "execution_count": 16,
   "metadata": {},
   "outputs": [
    {
     "name": "stdout",
     "output_type": "stream",
     "text": [
      "\n",
      "******************************************************************************\n",
      "This program contains Ipopt, a library for large-scale nonlinear optimization.\n",
      " Ipopt is released as open source code under the Eclipse Public License (EPL).\n",
      "         For more information visit https://github.com/coin-or/Ipopt\n",
      "******************************************************************************\n",
      "\n",
      "This is Ipopt version 3.14.11, running with linear solver MUMPS 5.4.1.\n",
      "\n",
      "Number of nonzeros in equality constraint Jacobian...:        0\n",
      "Number of nonzeros in inequality constraint Jacobian.:        0\n",
      "Number of nonzeros in Lagrangian Hessian.............:       21\n",
      "\n",
      "Total number of variables............................:        6\n",
      "                     variables with only lower bounds:        0\n",
      "                variables with lower and upper bounds:        0\n",
      "                     variables with only upper bounds:        0\n",
      "Total number of equality constraints.................:        0\n",
      "Total number of inequality constraints...............:        0\n",
      "        inequality constraints with only lower bounds:        0\n",
      "   inequality constraints with lower and upper bounds:        0\n",
      "        inequality constraints with only upper bounds:        0\n",
      "\n",
      "iter    objective    inf_pr   inf_du lg(mu)  ||d||  lg(rg) alpha_du alpha_pr  ls\n",
      "   0  1.4240547e+01 0.00e+00 7.71e+00  -1.0 0.00e+00    -  0.00e+00 0.00e+00   0\n",
      "   1  1.2791184e+01 0.00e+00 7.04e+00  -1.0 7.00e-02   2.0 1.00e+00 1.00e+00f  1\n",
      "   2  9.7483092e+00 0.00e+00 5.81e+00  -1.0 1.72e-01   1.5 1.00e+00 1.00e+00f  1\n",
      "   3  5.6219402e+00 0.00e+00 3.94e+00  -1.0 3.44e-01   1.0 1.00e+00 1.00e+00f  1\n",
      "   4  2.4244921e+00 0.00e+00 2.06e+00  -1.0 5.66e-01   0.6 1.00e+00 1.00e+00f  1\n",
      "   5  1.0374675e+00 0.00e+00 7.28e-01  -1.0 8.03e-01   0.1 1.00e+00 1.00e+00f  1\n",
      "   6  4.8473209e-01 0.00e+00 4.19e-01  -1.7 9.57e-01  -0.4 1.00e+00 1.00e+00f  1\n",
      "   7  2.4068443e-01 0.00e+00 4.82e-01  -1.7 2.33e+00  -0.9 1.00e+00 1.00e+00f  1\n",
      "   8  6.8067318e-02 0.00e+00 1.10e-01  -1.7 3.33e-01  -0.4 1.00e+00 1.00e+00f  1\n",
      "   9  4.2924092e-02 0.00e+00 2.06e-01  -2.5 1.41e+00    -  1.00e+00 1.00e+00f  1\n",
      "iter    objective    inf_pr   inf_du lg(mu)  ||d||  lg(rg) alpha_du alpha_pr  ls\n",
      "  10  1.4607660e-03 0.00e+00 2.45e-02  -2.5 4.61e-01    -  1.00e+00 1.00e+00f  1\n",
      "  11  6.7236238e-06 0.00e+00 1.35e-03  -3.8 7.92e-02    -  1.00e+00 1.00e+00f  1\n",
      "  12  2.3878806e-10 0.00e+00 9.23e-06  -5.7 6.16e-03    -  1.00e+00 1.00e+00f  1\n",
      "  13  3.1803158e-19 0.00e+00 2.79e-10  -8.6 3.65e-05    -  1.00e+00 1.00e+00f  1\n",
      "\n",
      "Number of Iterations....: 13\n",
      "\n",
      "                                   (scaled)                 (unscaled)\n",
      "Objective...............:   3.1803157626514224e-19    3.1803157626514224e-19\n",
      "Dual infeasibility......:   2.7892701368524018e-10    2.7892701368524018e-10\n",
      "Constraint violation....:   0.0000000000000000e+00    0.0000000000000000e+00\n",
      "Variable bound violation:   0.0000000000000000e+00    0.0000000000000000e+00\n",
      "Complementarity.........:   0.0000000000000000e+00    0.0000000000000000e+00\n",
      "Overall NLP error.......:   2.7892701368524018e-10    2.7892701368524018e-10\n",
      "\n",
      "\n",
      "Number of objective function evaluations             = 14\n",
      "Number of objective gradient evaluations             = 14\n",
      "Number of equality constraint evaluations            = 0\n",
      "Number of inequality constraint evaluations          = 0\n",
      "Number of equality constraint Jacobian evaluations   = 0\n",
      "Number of inequality constraint Jacobian evaluations = 0\n",
      "Number of Lagrangian Hessian evaluations             = 13\n",
      "Total seconds in IPOPT                               = 1.446\n",
      "\n",
      "EXIT: Optimal Solution Found.\n",
      "      solver  :   t_proc      (avg)   t_wall      (avg)    n_eval\n",
      "callback_fun  | 581.97ms ( 41.57ms)   1.44 s (102.64ms)        14\n",
      "       nlp_f  | 191.00us ( 13.64us) 113.37us (  8.10us)        14\n",
      "  nlp_grad_f  | 706.00us ( 47.07us) 218.41us ( 14.56us)        15\n",
      "  nlp_hess_l  |   1.42ms (108.92us)   1.41ms (108.84us)        13\n",
      "       total  | 615.33ms (615.33ms)   1.45 s (  1.45 s)         1\n"
     ]
    }
   ],
   "source": [
    "# %load tp1/generated/invgeom_ipopt\n",
    "slider.reset()\n",
    "opti.minimize(totalcost)\n",
    "opti.solver(\"ipopt\")  # select the backend solver\n",
    "opti.callback(lambda i: slider.append_q(opti.debug.value(var_q)))\n",
    "\n",
    "# Caution: in case the solver does not converge, we are picking the candidate values\n",
    "# at the last iteration in opti.debug, and they are NO guarantee of what they mean.\n",
    "try:\n",
    "    sol = opti.solve_limited()\n",
    "    sol_q = opti.value(var_q)\n",
    "    slider.update()\n",
    "except:\n",
    "    print(\"ERROR in convergence, plotting debug info.\")\n",
    "    sol_q = opti.debug.value(var_q)"
   ]
  },
  {
   "cell_type": "code",
   "execution_count": 23,
   "metadata": {},
   "outputs": [
    {
     "data": {
      "text/html": [
       "\n",
       "            <div style=\"height: 400px; width: 100%; overflow-x: auto; overflow-y: hidden; resize: both\">\n",
       "            <iframe src=\"http://127.0.0.1:7000/static/\" style=\"width: 100%; height: 100%; border: none\"></iframe>\n",
       "            </div>\n",
       "            "
      ],
      "text/plain": [
       "<IPython.core.display.HTML object>"
      ]
     },
     "execution_count": 23,
     "metadata": {},
     "output_type": "execute_result"
    }
   ],
   "source": [
    "viz.viewer.jupyter_cell()"
   ]
  },
  {
   "cell_type": "code",
   "execution_count": 24,
   "metadata": {
    "scrolled": true
   },
   "outputs": [
    {
     "data": {
      "application/vnd.jupyter.widget-view+json": {
       "model_id": "9747193d16c344b499fcb4b5c5fda530",
       "version_major": 2,
       "version_minor": 0
      },
      "text/plain": [
       "IntSlider(value=0, max=13)"
      ]
     },
     "metadata": {},
     "output_type": "display_data"
    }
   ],
   "source": [
    "slider.display()"
   ]
  },
  {
   "cell_type": "markdown",
   "metadata": {},
   "source": [
    "We can check that the solver converged to the same solution:"
   ]
  },
  {
   "cell_type": "code",
   "execution_count": 17,
   "metadata": {},
   "outputs": [
    {
     "name": "stdout",
     "output_type": "stream",
     "text": [
      "The robot finally reached effector placement at\n",
      "   R =\n",
      "           1  1.44955e-10  1.22017e-10\n",
      " 1.88777e-10    -0.707107    -0.707107\n",
      "-1.62196e-11     0.707107    -0.707107\n",
      "  p =     -0.5 0.158195 0.141805\n",
      "\n"
     ]
    }
   ],
   "source": [
    "# %load tp1/generated/invgeom_check_final_placement\n",
    "print(\n",
    "    \"The robot finally reached effector placement at\\n\",\n",
    "    robot.placement(sol_q, 6),\n",
    ")"
   ]
  },
  {
   "cell_type": "markdown",
   "metadata": {},
   "source": [
    "To conclude, count the number of iterations and number of function/gradient evaluations. This is automatic differentiation 🤠"
   ]
  }
 ],
 "metadata": {
  "kernelspec": {
   "display_name": "myenv",
   "language": "python",
   "name": "myenv"
  },
  "language_info": {
   "codemirror_mode": {
    "name": "ipython",
    "version": 3
   },
   "file_extension": ".py",
   "mimetype": "text/x-python",
   "name": "python",
   "nbconvert_exporter": "python",
   "pygments_lexer": "ipython3",
   "version": "3.10.10"
  }
 },
 "nbformat": 4,
 "nbformat_minor": 4
}
