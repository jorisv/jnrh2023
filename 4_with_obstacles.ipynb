{
 "cells": [
  {
   "cell_type": "markdown",
   "id": "233d2ae1",
   "metadata": {},
   "source": [
    "# Working with obstacles\n",
    "This notebook aims at giving the basis to work with obstacles, first by examplifying the basic API of HPP-FCL, then by writing an optimization problem under noncollision avoidance constraint. One of the main message is that the collision constraint is hard, and that a lot of work remains necessary, to make it efficient in practice.\n",
    "\n",
    "We first show how to compute the minimal ellipsoid that encapsulate a body of the robot. \n",
    "Then a inverse-geometry problem is written under the constraint that a set of points remains outside of the encapsulating ellipsoid.\n",
    "\n",
    "The notebook is written for a simple UR10 robot, and you should be able to mix it with notebook #3 to make a complete trajectory optimization for a humanoid.\n",
    "\n"
   ]
  },
  {
   "cell_type": "code",
   "execution_count": 1,
   "id": "e8d70aae",
   "metadata": {},
   "outputs": [
    {
     "name": "stdout",
     "output_type": "stream",
     "text": [
      "NB: as for all the tutorials, a magic command %do_not_load is introduced to hide the solutions to some questions. Change it for %load if you want to see (and execute) the solution.\n"
     ]
    }
   ],
   "source": [
    "import magic_donotload"
   ]
  },
  {
   "cell_type": "markdown",
   "id": "e8a9f203",
   "metadata": {},
   "source": [
    "## Set up\n",
    "We will use the following tools:\n",
    "- the ur10 model and the Talos model (loaded by example-robot-data)\n",
    "- HPP-FCL, through the Pinocchio API\n",
    "- pinocchio.casadi for writing the problem and computing its derivatives\n",
    "- the IpOpt solver wrapped in casadi\n",
    "- the meshcat viewer"
   ]
  },
  {
   "cell_type": "code",
   "execution_count": 2,
   "id": "496d86af",
   "metadata": {},
   "outputs": [],
   "source": [
    "# %load tp4/generated/encapsulating_ellipses_import\n",
    "import casadi\n",
    "import example_robot_data as robex\n",
    "import numpy as np\n",
    "import pinocchio as pin\n",
    "from pinocchio import casadi as cpin\n",
    "\n",
    "from utils.meshcat_viewer_wrapper import MeshcatVisualizer"
   ]
  },
  {
   "cell_type": "markdown",
   "id": "71f8fa8e",
   "metadata": {},
   "source": [
    "We will load the UR10 model, but feel free to change it for any model you like."
   ]
  },
  {
   "cell_type": "code",
   "execution_count": 3,
   "id": "d07b35d2",
   "metadata": {},
   "outputs": [
    {
     "name": "stdout",
     "output_type": "stream",
     "text": [
      "You can open the visualizer by visiting the following URL:\n",
      "http://127.0.0.1:7002/static/\n"
     ]
    }
   ],
   "source": [
    "# %load tp4/generated/encapsulating_ellipses_load\n",
    "# --- Load robot model\n",
    "robot = robex.load(\"ur10\")\n",
    "viz = MeshcatVisualizer(robot)\n",
    "viz.display(robot.q0)"
   ]
  },
  {
   "cell_type": "code",
   "execution_count": null,
   "id": "45c0b04e",
   "metadata": {},
   "outputs": [],
   "source": []
  },
  {
   "cell_type": "code",
   "execution_count": 4,
   "id": "f676ef39",
   "metadata": {},
   "outputs": [
    {
     "data": {
      "text/html": [
       "\n",
       "            <div style=\"height: 400px; width: 100%; overflow-x: auto; overflow-y: hidden; resize: both\">\n",
       "            <iframe src=\"http://127.0.0.1:7002/static/\" style=\"width: 100%; height: 100%; border: none\"></iframe>\n",
       "            </div>\n",
       "            "
      ],
      "text/plain": [
       "<IPython.core.display.HTML object>"
      ]
     },
     "execution_count": 4,
     "metadata": {},
     "output_type": "execute_result"
    }
   ],
   "source": [
    "viz.viewer.jupyter_cell()"
   ]
  },
  {
   "cell_type": "markdown",
   "id": "8de21a7c",
   "metadata": {},
   "source": [
    "## Accessing the vertices of the collisions objects\n",
    "Let's quickly summarize the basics of collision avoidance in Pinocchio. Our models are most often loaded from URDF storage, which typically contains two sets of 3D objects: the visuals, very detailed and often colored meshed used for display; and the collisions, less detailed objects used for a fair computation of the collisions. Both are stored in the robot_wrapper, under collision_model and visual_model."
   ]
  },
  {
   "cell_type": "code",
   "execution_count": 5,
   "id": "cdf37f3c",
   "metadata": {},
   "outputs": [
    {
     "name": "stdout",
     "output_type": "stream",
     "text": [
      "Nb geometry objects = 8\n",
      "Name: \t \n",
      "base_link_0\n",
      "Parent frame ID: \t \n",
      "4\n",
      "Parent joint ID: \t \n",
      "0\n",
      "Position in parent frame: \t \n",
      "  R =\n",
      "1 0 0\n",
      "0 1 0\n",
      "0 0 1\n",
      "  p = 0 0 0\n",
      "\n",
      "Absolute path to mesh file: \t \n",
      "/home/matheecs/Code/jnrh2023/myenv/lib/python3.10/site-packages/cmeel.prefix/lib/python3.10/site-packages/../../../share/example-robot-data/robots/../../example-robot-data/robots/ur_description/meshes/ur10/collision/base.stl\n",
      "Scale for transformation of the mesh: \t \n",
      "1 1 1\n",
      "Disable collision: \t \n",
      "0\n",
      "\n",
      "\n",
      "Name: \t \n",
      "shoulder_link_0\n",
      "Parent frame ID: \t \n",
      "8\n",
      "Parent joint ID: \t \n",
      "1\n",
      "Position in parent frame: \t \n",
      "  R =\n",
      "1 0 0\n",
      "0 1 0\n",
      "0 0 1\n",
      "  p = 0 0 0\n",
      "\n",
      "Absolute path to mesh file: \t \n",
      "/home/matheecs/Code/jnrh2023/myenv/lib/python3.10/site-packages/cmeel.prefix/lib/python3.10/site-packages/../../../share/example-robot-data/robots/../../example-robot-data/robots/ur_description/meshes/ur10/collision/shoulder.stl\n",
      "Scale for transformation of the mesh: \t \n",
      "1 1 1\n",
      "Disable collision: \t \n",
      "0\n",
      "\n",
      "\n",
      "Name: \t \n",
      "upper_arm_link_0\n",
      "Parent frame ID: \t \n",
      "10\n",
      "Parent joint ID: \t \n",
      "2\n",
      "Position in parent frame: \t \n",
      "  R =\n",
      "1 0 0\n",
      "0 1 0\n",
      "0 0 1\n",
      "  p = 0 0 0\n",
      "\n",
      "Absolute path to mesh file: \t \n",
      "/home/matheecs/Code/jnrh2023/myenv/lib/python3.10/site-packages/cmeel.prefix/lib/python3.10/site-packages/../../../share/example-robot-data/robots/../../example-robot-data/robots/ur_description/meshes/ur10/collision/upperarm.stl\n",
      "Scale for transformation of the mesh: \t \n",
      "1 1 1\n",
      "Disable collision: \t \n",
      "0\n",
      "\n",
      "\n",
      "Name: \t \n",
      "forearm_link_0\n",
      "Parent frame ID: \t \n",
      "12\n",
      "Parent joint ID: \t \n",
      "3\n",
      "Position in parent frame: \t \n",
      "  R =\n",
      "1 0 0\n",
      "0 1 0\n",
      "0 0 1\n",
      "  p = 0 0 0\n",
      "\n",
      "Absolute path to mesh file: \t \n",
      "/home/matheecs/Code/jnrh2023/myenv/lib/python3.10/site-packages/cmeel.prefix/lib/python3.10/site-packages/../../../share/example-robot-data/robots/../../example-robot-data/robots/ur_description/meshes/ur10/collision/forearm.stl\n",
      "Scale for transformation of the mesh: \t \n",
      "1 1 1\n",
      "Disable collision: \t \n",
      "0\n",
      "\n",
      "\n",
      "Name: \t \n",
      "wrist_1_link_0\n",
      "Parent frame ID: \t \n",
      "14\n",
      "Parent joint ID: \t \n",
      "4\n",
      "Position in parent frame: \t \n",
      "  R =\n",
      "1 0 0\n",
      "0 1 0\n",
      "0 0 1\n",
      "  p = 0 0 0\n",
      "\n",
      "Absolute path to mesh file: \t \n",
      "/home/matheecs/Code/jnrh2023/myenv/lib/python3.10/site-packages/cmeel.prefix/lib/python3.10/site-packages/../../../share/example-robot-data/robots/../../example-robot-data/robots/ur_description/meshes/ur10/collision/wrist1.stl\n",
      "Scale for transformation of the mesh: \t \n",
      "1 1 1\n",
      "Disable collision: \t \n",
      "0\n",
      "\n",
      "\n",
      "Name: \t \n",
      "wrist_2_link_0\n",
      "Parent frame ID: \t \n",
      "16\n",
      "Parent joint ID: \t \n",
      "5\n",
      "Position in parent frame: \t \n",
      "  R =\n",
      "1 0 0\n",
      "0 1 0\n",
      "0 0 1\n",
      "  p = 0 0 0\n",
      "\n",
      "Absolute path to mesh file: \t \n",
      "/home/matheecs/Code/jnrh2023/myenv/lib/python3.10/site-packages/cmeel.prefix/lib/python3.10/site-packages/../../../share/example-robot-data/robots/../../example-robot-data/robots/ur_description/meshes/ur10/collision/wrist2.stl\n",
      "Scale for transformation of the mesh: \t \n",
      "1 1 1\n",
      "Disable collision: \t \n",
      "0\n",
      "\n",
      "\n",
      "Name: \t \n",
      "wrist_3_link_0\n",
      "Parent frame ID: \t \n",
      "18\n",
      "Parent joint ID: \t \n",
      "6\n",
      "Position in parent frame: \t \n",
      "  R =\n",
      "1 0 0\n",
      "0 1 0\n",
      "0 0 1\n",
      "  p = 0 0 0\n",
      "\n",
      "Absolute path to mesh file: \t \n",
      "/home/matheecs/Code/jnrh2023/myenv/lib/python3.10/site-packages/cmeel.prefix/lib/python3.10/site-packages/../../../share/example-robot-data/robots/../../example-robot-data/robots/ur_description/meshes/ur10/collision/wrist3.stl\n",
      "Scale for transformation of the mesh: \t \n",
      "1 1 1\n",
      "Disable collision: \t \n",
      "0\n",
      "\n",
      "\n",
      "Name: \t \n",
      "ee_link_0\n",
      "Parent frame ID: \t \n",
      "20\n",
      "Parent joint ID: \t \n",
      "6\n",
      "Position in parent frame: \t \n",
      "  R =\n",
      "4.89664e-12          -1           0\n",
      "          1 4.89664e-12           0\n",
      "          0           0           1\n",
      "  p = -4.89664e-14       0.0822            0\n",
      "\n",
      "Absolute path to mesh file: \t \n",
      "BOX\n",
      "Scale for transformation of the mesh: \t \n",
      "1 1 1\n",
      "Disable collision: \t \n",
      "0\n",
      "\n",
      "\n",
      " Nb geometry objects = 7\n",
      "Name: \t \n",
      "base_link_0\n",
      "Parent frame ID: \t \n",
      "4\n",
      "Parent joint ID: \t \n",
      "0\n",
      "Position in parent frame: \t \n",
      "  R =\n",
      "1 0 0\n",
      "0 1 0\n",
      "0 0 1\n",
      "  p = 0 0 0\n",
      "\n",
      "Absolute path to mesh file: \t \n",
      "/home/matheecs/Code/jnrh2023/myenv/lib/python3.10/site-packages/cmeel.prefix/lib/python3.10/site-packages/../../../share/example-robot-data/robots/../../example-robot-data/robots/ur_description/meshes/ur10/visual/base.dae\n",
      "Scale for transformation of the mesh: \t \n",
      "1 1 1\n",
      "Disable collision: \t \n",
      "0\n",
      "\n",
      "\n",
      "Name: \t \n",
      "shoulder_link_0\n",
      "Parent frame ID: \t \n",
      "8\n",
      "Parent joint ID: \t \n",
      "1\n",
      "Position in parent frame: \t \n",
      "  R =\n",
      "1 0 0\n",
      "0 1 0\n",
      "0 0 1\n",
      "  p = 0 0 0\n",
      "\n",
      "Absolute path to mesh file: \t \n",
      "/home/matheecs/Code/jnrh2023/myenv/lib/python3.10/site-packages/cmeel.prefix/lib/python3.10/site-packages/../../../share/example-robot-data/robots/../../example-robot-data/robots/ur_description/meshes/ur10/visual/shoulder.dae\n",
      "Scale for transformation of the mesh: \t \n",
      "1 1 1\n",
      "Disable collision: \t \n",
      "0\n",
      "\n",
      "\n",
      "Name: \t \n",
      "upper_arm_link_0\n",
      "Parent frame ID: \t \n",
      "10\n",
      "Parent joint ID: \t \n",
      "2\n",
      "Position in parent frame: \t \n",
      "  R =\n",
      "1 0 0\n",
      "0 1 0\n",
      "0 0 1\n",
      "  p = 0 0 0\n",
      "\n",
      "Absolute path to mesh file: \t \n",
      "/home/matheecs/Code/jnrh2023/myenv/lib/python3.10/site-packages/cmeel.prefix/lib/python3.10/site-packages/../../../share/example-robot-data/robots/../../example-robot-data/robots/ur_description/meshes/ur10/visual/upperarm.dae\n",
      "Scale for transformation of the mesh: \t \n",
      "1 1 1\n",
      "Disable collision: \t \n",
      "0\n",
      "\n",
      "\n",
      "Name: \t \n",
      "forearm_link_0\n",
      "Parent frame ID: \t \n",
      "12\n",
      "Parent joint ID: \t \n",
      "3\n",
      "Position in parent frame: \t \n",
      "  R =\n",
      "1 0 0\n",
      "0 1 0\n",
      "0 0 1\n",
      "  p = 0 0 0\n",
      "\n",
      "Absolute path to mesh file: \t \n",
      "/home/matheecs/Code/jnrh2023/myenv/lib/python3.10/site-packages/cmeel.prefix/lib/python3.10/site-packages/../../../share/example-robot-data/robots/../../example-robot-data/robots/ur_description/meshes/ur10/visual/forearm.dae\n",
      "Scale for transformation of the mesh: \t \n",
      "1 1 1\n",
      "Disable collision: \t \n",
      "0\n",
      "\n",
      "\n",
      "Name: \t \n",
      "wrist_1_link_0\n",
      "Parent frame ID: \t \n",
      "14\n",
      "Parent joint ID: \t \n",
      "4\n",
      "Position in parent frame: \t \n",
      "  R =\n",
      "1 0 0\n",
      "0 1 0\n",
      "0 0 1\n",
      "  p = 0 0 0\n",
      "\n",
      "Absolute path to mesh file: \t \n",
      "/home/matheecs/Code/jnrh2023/myenv/lib/python3.10/site-packages/cmeel.prefix/lib/python3.10/site-packages/../../../share/example-robot-data/robots/../../example-robot-data/robots/ur_description/meshes/ur10/visual/wrist1.dae\n",
      "Scale for transformation of the mesh: \t \n",
      "1 1 1\n",
      "Disable collision: \t \n",
      "0\n",
      "\n",
      "\n",
      "Name: \t \n",
      "wrist_2_link_0\n",
      "Parent frame ID: \t \n",
      "16\n",
      "Parent joint ID: \t \n",
      "5\n",
      "Position in parent frame: \t \n",
      "  R =\n",
      "1 0 0\n",
      "0 1 0\n",
      "0 0 1\n",
      "  p = 0 0 0\n",
      "\n",
      "Absolute path to mesh file: \t \n",
      "/home/matheecs/Code/jnrh2023/myenv/lib/python3.10/site-packages/cmeel.prefix/lib/python3.10/site-packages/../../../share/example-robot-data/robots/../../example-robot-data/robots/ur_description/meshes/ur10/visual/wrist2.dae\n",
      "Scale for transformation of the mesh: \t \n",
      "1 1 1\n",
      "Disable collision: \t \n",
      "0\n",
      "\n",
      "\n",
      "Name: \t \n",
      "wrist_3_link_0\n",
      "Parent frame ID: \t \n",
      "18\n",
      "Parent joint ID: \t \n",
      "6\n",
      "Position in parent frame: \t \n",
      "  R =\n",
      "1 0 0\n",
      "0 1 0\n",
      "0 0 1\n",
      "  p = 0 0 0\n",
      "\n",
      "Absolute path to mesh file: \t \n",
      "/home/matheecs/Code/jnrh2023/myenv/lib/python3.10/site-packages/cmeel.prefix/lib/python3.10/site-packages/../../../share/example-robot-data/robots/../../example-robot-data/robots/ur_description/meshes/ur10/visual/wrist3.dae\n",
      "Scale for transformation of the mesh: \t \n",
      "1 1 1\n",
      "Disable collision: \t \n",
      "0\n",
      "\n",
      "\n",
      "\n"
     ]
    }
   ],
   "source": [
    "print(robot.collision_model, robot.visual_model)"
   ]
  },
  {
   "cell_type": "markdown",
   "id": "f9959caa",
   "metadata": {},
   "source": [
    "Both are corresponding to the same structure of type pin.GeometryModel. It mostly contains a list of geometry objects (that we are going to use) and a list of collision pair (very useful, but not in this notebook).\n"
   ]
  },
  {
   "cell_type": "code",
   "execution_count": 6,
   "id": "f7681a13",
   "metadata": {},
   "outputs": [],
   "source": [
    "geom = robot.collision_model.geometryObjects[0]"
   ]
  },
  {
   "cell_type": "markdown",
   "id": "192eb897",
   "metadata": {},
   "source": [
    "A geometry object is a 3d shape attached to a parent joint at a specific placement. It mostly contains 3 fields: geom.parentJoint the index of the parent joint ; geom.placement, the placement of the 3d shape in the frame of the parent joint; and geom.geometry, a specific structure representing the shape."
   ]
  },
  {
   "cell_type": "code",
   "execution_count": 7,
   "id": "32dd7009",
   "metadata": {},
   "outputs": [
    {
     "name": "stdout",
     "output_type": "stream",
     "text": [
      "<hppfcl.hppfcl.BVHModelOBBRSS object at 0x7f692e1efbc0>\n"
     ]
    }
   ],
   "source": [
    "shape = geom.geometry\n",
    "print(shape)"
   ]
  },
  {
   "cell_type": "markdown",
   "id": "f3ed6058",
   "metadata": {},
   "source": [
    "Shapes can be simple features (sphere, capsule, ellipsoid, box, etc), or soup of polygon. This is the most frequent case when loading a model from URDF. Then we are mostly interested by the list of vertices:"
   ]
  },
  {
   "cell_type": "code",
   "execution_count": 8,
   "id": "04de2eaf",
   "metadata": {},
   "outputs": [
    {
     "name": "stdout",
     "output_type": "stream",
     "text": [
      "[[ 0.06140732 -0.07101219  0.        ]\n",
      " [ 0.0107041  -0.0919913   0.0290448 ]\n",
      " [ 0.0101903  -0.09200149  0.00837344]\n",
      " [ 0.02182996 -0.07544291  0.03799992]\n",
      " [ 0.00950617 -0.09175908  0.02993541]\n",
      " [-0.05599856  0.07227855  0.        ]\n",
      " [-0.00221407  0.0750876   0.03639787]\n",
      " [-0.00294936  0.07494199  0.        ]\n",
      " [ 0.07494199 -0.00294936  0.        ]\n",
      " [ 0.07494199  0.00294936  0.        ]\n",
      " [ 0.07498645  0.00142002  0.03799992]\n",
      " [ 0.07227855  0.05599856  0.        ]\n",
      " [ 0.07222586  0.05659395  0.01199996]\n",
      " [ 0.07186049  0.05875337  0.        ]\n",
      " [ 0.07227855 -0.05599856  0.01199996]\n",
      " [ 0.07439428 -0.00950783  0.03799992]\n",
      " [ 0.07186049 -0.05875337  0.01199996]\n",
      " [ 0.05875337 -0.07186049  0.        ]\n",
      " [ 0.06140732 -0.07101219  0.01199996]\n",
      " [-0.01993542 -0.07599997  0.03799992]\n",
      " [ 0.01993542 -0.07599997  0.03799992]\n",
      " [-0.01004421 -0.09199476  0.02970439]\n",
      " [-0.02092278 -0.07585775  0.03799992]\n",
      " [ 0.04303449 -0.06142485  0.03799992]\n",
      " [ 0.0661509  -0.06812119  0.01199996]\n",
      " [ 0.04697597 -0.05846536  0.03799992]\n",
      " [ 0.02092278 -0.07585775  0.03799992]\n",
      " [ 0.00131339  0.07509136  0.03161072]\n",
      " [ 0.00294936  0.07494199  0.        ]\n",
      " [ 0.06975519  0.06389409  0.        ]\n",
      " [ 0.07060879  0.06231802  0.01199996]\n",
      " [ 0.07101219  0.06140732  0.        ]\n",
      " [ 0.07166129  0.05952489  0.01199996]\n",
      " [ 0.073134    0.01662367  0.03799992]\n",
      " [ 0.06717509  0.06717509  0.01199996]\n",
      " [ 0.0661509   0.06812119  0.        ]\n",
      " [ 0.06489288  0.06909888  0.01199996]\n",
      " [-0.07222586 -0.05659395  0.01199996]\n",
      " [-0.07468336 -0.00688088  0.03799992]\n",
      " [-0.07497435 -0.00195688  0.03799992]\n",
      " [-0.07222586 -0.05659395  0.        ]\n",
      " [-0.07166129 -0.05952495  0.01199996]\n",
      " [-0.07060879 -0.06231802  0.01199996]\n",
      " [-0.06994175 -0.02707636  0.03799992]\n",
      " [-0.07060879 -0.06231802  0.        ]\n",
      " [ 0.00899988 -0.0916897   0.00804198]\n",
      " [-0.01993542 -0.07599997  0.        ]\n",
      " [ 0.01993542 -0.07599997  0.        ]\n",
      " [ 0.05599856 -0.07227855  0.        ]\n",
      " [ 0.07360899 -0.01437711  0.03799992]\n",
      " [ 0.07236605 -0.01969999  0.03799992]\n",
      " [ 0.07073497 -0.0249291   0.03799992]\n",
      " [ 0.07488995 -0.00404835  0.03799992]\n",
      " [ 0.07227855 -0.05599856  0.        ]\n",
      " [ 0.0507189  -0.05524927  0.03799992]\n",
      " [ 0.05461543 -0.05140113  0.03799992]\n",
      " [-0.06489288 -0.06909888  0.01199996]\n",
      " [-0.04155868 -0.062433    0.03799992]\n",
      " [-0.04599696 -0.05923867  0.03799992]\n",
      " [-0.00899988 -0.09149998  0.02999997]\n",
      " [-0.07227855  0.05599856  0.01199996]\n",
      " [-0.07380956  0.01330906  0.03799992]\n",
      " [-0.07186049  0.05875337  0.01199996]\n",
      " [-0.07494199  0.00294936  0.        ]\n",
      " [-0.07494199 -0.00294936  0.        ]\n",
      " [ 0.06552076  0.03649663  0.03799992]\n",
      " [ 0.06800639  0.031623    0.03799992]\n",
      " [ 0.07415217  0.01124048  0.03799992]\n",
      " [ 0.07013499  0.02657073  0.03799992]\n",
      " [ 0.06909888  0.06489288  0.01199996]\n",
      " [ 0.06812119  0.0661509   0.        ]\n",
      " [ 0.0567516   0.04903227  0.03799992]\n",
      " [ 0.05303299  0.05303299  0.03799992]\n",
      " [ 0.06016963  0.04477167  0.03799992]\n",
      " [ 0.05599856  0.07227855  0.        ]\n",
      " [ 0.05659395  0.07222586  0.01199996]\n",
      " [ 0.05875337  0.07186049  0.        ]\n",
      " [-0.07398259 -0.01231008  0.03799992]\n",
      " [-0.07301467 -0.01714164  0.03799992]\n",
      " [-0.06578719 -0.03601378  0.03799992]\n",
      " [-0.06801229 -0.0316118   0.03799992]\n",
      " [-0.07172989 -0.02190399  0.03799992]\n",
      " [-0.07166129 -0.05952489  0.        ]\n",
      " [ 0.07101219 -0.06140738  0.01199996]\n",
      " [ 0.06685531 -0.03399056  0.03799992]\n",
      " [ 0.06975519 -0.06389409  0.01199996]\n",
      " [ 0.07186049 -0.05875337  0.        ]\n",
      " [ 0.07101219 -0.06140732  0.        ]\n",
      " [ 0.06812119 -0.0661509   0.01199996]\n",
      " [ 0.05821543 -0.04728579  0.03799992]\n",
      " [ 0.0611974  -0.04335623  0.03799992]\n",
      " [ 0.06389409 -0.06975519  0.01199996]\n",
      " [-0.02182996 -0.07544291  0.03799992]\n",
      " [-0.0496121  -0.05624586  0.03799992]\n",
      " [-0.06909888 -0.06489288  0.01199996]\n",
      " [-0.0567553  -0.04902851  0.03799992]\n",
      " [-0.06017619 -0.0447638   0.03799992]\n",
      " [-0.06298708 -0.04071378  0.03799992]\n",
      " [ 0.00869989 -0.092       0.02869987]\n",
      " [ 0.00933206 -0.092       0.02848458]\n",
      " [-0.00929433 -0.09200036  0.00948632]\n",
      " [-0.01041221 -0.09200006  0.00858396]\n",
      " [-0.0161215   0.07324677  0.03799992]\n",
      " [-0.01127928  0.07414668  0.03799992]\n",
      " [-0.05875337  0.07186049  0.01199996]\n",
      " [-0.05190759  0.05413472  0.03799992]\n",
      " [-0.0661509   0.06812119  0.01199996]\n",
      " [-0.06812119  0.0661509   0.01199996]\n",
      " [-0.05535131  0.05060821  0.03799992]\n",
      " [-0.05855792  0.04686051  0.03799992]\n",
      " [-0.07452458  0.00842881  0.03799992]\n",
      " [-0.0670998   0.03350496  0.03799992]\n",
      " [-0.07101219  0.06140732  0.01199996]\n",
      " [-0.06936275  0.0285272   0.03799992]\n",
      " [-0.06447458  0.03831446  0.03799992]\n",
      " [-0.06181818  0.04246765  0.03799992]\n",
      " [-0.06975519  0.06389409  0.01199996]\n",
      " [ 0.07473129  0.00634009  0.03799992]\n",
      " [ 0.07172995  0.02190423  0.03799992]\n",
      " [ 0.06298387  0.04071849  0.03799992]\n",
      " [ 0.06140732  0.07101219  0.        ]\n",
      " [ 0.06231802  0.07060879  0.01199996]\n",
      " [ 0.06389409  0.06975519  0.        ]\n",
      " [ 0.04767245  0.05789893  0.03799992]\n",
      " [ 0.04332298  0.06122171  0.03799992]\n",
      " [ 0.03920871  0.0639348   0.03799992]\n",
      " [ 0.01487225  0.07351058  0.03799992]\n",
      " [ 0.05952489  0.07166129  0.01199996]\n",
      " [ 0.0689429  -0.02952682  0.03799992]\n",
      " [-0.06717509 -0.06717509  0.01199996]\n",
      " [-0.05303299 -0.05303299  0.03799992]\n",
      " [ 0.00963968 -0.092       0.02806347]\n",
      " [-0.00899988 -0.09149998  0.00799996]\n",
      " [-0.05659395 -0.07222586  0.        ]\n",
      " [-0.05599856  0.07227855  0.01199996]\n",
      " [-0.00583839  0.07477205  0.03799992]\n",
      " [-0.04782199  0.05777531  0.03799992]\n",
      " [-0.04392099  0.06079399  0.03799992]\n",
      " [-0.0710873   0.02390718  0.03799992]\n",
      " [-0.07264268  0.01865488  0.03799992]\n",
      " [ 0.05041146  0.0555306   0.03799992]\n",
      " [ 0.03492122  0.06637358  0.03799992]\n",
      " [ 0.0299893   0.06874328  0.03799992]\n",
      " [ 0.02018862  0.07223141  0.03799992]\n",
      " [-0.00869989 -0.092       0.02869987]\n",
      " [-0.00920814 -0.092       0.02858012]\n",
      " [-0.00963384 -0.092       0.02808678]\n",
      " [-0.01069271 -0.09199255  0.02907019]\n",
      " [-0.06231802 -0.07060879  0.        ]\n",
      " [-0.01049989 -0.092       0.00999993]\n",
      " [-0.06231802 -0.07060879  0.01199996]\n",
      " [-0.05952489 -0.07166129  0.        ]\n",
      " [-0.00091153  0.07499438  0.03799992]\n",
      " [ 0.00455707  0.07486116  0.03799992]\n",
      " [ 0.0014143   0.07507467  0.03720748]\n",
      " [ 0.00101763  0.0751      0.03462076]\n",
      " [ 0.01000952  0.07432878  0.03799992]\n",
      " [-0.06140732  0.07101219  0.01199996]\n",
      " [-0.03509289  0.06628298  0.03799992]\n",
      " [-0.03066015  0.06844657  0.03799992]\n",
      " [-0.02610021  0.0703119   0.03799992]\n",
      " [-0.02090108  0.07202845  0.03799992]\n",
      " [ 0.0254088   0.07056456  0.03799992]\n",
      " [-0.0097     -0.092       0.02769982]\n",
      " [-0.03983396  0.06354719  0.03799992]\n",
      " [-0.06389409  0.06975519  0.01199996]\n",
      " [ 0.0661509  -0.06812119  0.        ]\n",
      " [ 0.06812119 -0.0661509   0.        ]\n",
      " [ 0.06975519 -0.06389409  0.        ]\n",
      " [ 0.06389409 -0.06975519  0.        ]\n",
      " [-0.06812119  0.0661509   0.        ]\n",
      " [-0.0661509   0.06812119  0.        ]\n",
      " [-0.05875337  0.07186049  0.        ]\n",
      " [-0.06975519  0.06389409  0.        ]\n",
      " [-0.07101219  0.06140732  0.        ]\n",
      " [-0.06489288 -0.06909888  0.        ]\n",
      " [-0.06717509 -0.06717509  0.        ]\n",
      " [-0.06140732  0.07101219  0.        ]\n",
      " [ 0.06420069 -0.03877061  0.03799992]\n",
      " [-0.07494109  0.00296897  0.03799992]\n",
      " [-0.06909888 -0.06489288  0.        ]\n",
      " [-0.06389409  0.06975519  0.        ]\n",
      " [-0.07227855  0.05599856  0.        ]\n",
      " [-0.07186049  0.05875337  0.        ]\n",
      " [ 0.0097     -0.092       0.02769982]]\n"
     ]
    }
   ],
   "source": [
    "vertices = shape.vertices()\n",
    "print(vertices)"
   ]
  },
  {
   "cell_type": "markdown",
   "id": "0d08a721",
   "metadata": {},
   "source": [
    "Most of the time, when you are working with HPP-FCL through Pinocchio, you will not go that deep in the collision description, but rather access it through high level functions of HPP-FCL, like computing distances, detecting collisions, etc. Here we are going to use this list to compute the minimal encapsulating ellispoid."
   ]
  },
  {
   "cell_type": "markdown",
   "id": "9052373d",
   "metadata": {},
   "source": [
    "## Encapsulating\n",
    "\n",
    "### Problem formulation\n",
    "An ellispoid $\\mathcal{E}$ can be defined by a symmetric positive matrix $A$ and a center 3d vector $c$, as the set of points respecting:\n",
    "$$ \\forall p \\in \\mathcal{E}, (p-c)^T A (p-c) \\le 1$$\n",
    "\n",
    "The matrix $A$ can be deduced from the orientation of the main axes $R$ and the 3 radii $r=(r_1,r_2,r_3)$ by:\n",
    "$$A=R \\ \\textrm{diag}(\\frac{1}{r^2}) R^T$$\n",
    "where $\\textrm{diag}(\\frac{1}{r^2})$ is the diagonal matrix formed with the inverted squared radii.\n",
    "\n",
    "Inside an optimization program, $R$ is more conveniently represented by ... (if you thought Euler angles, please leave the room) ... angle vectors or quaternion. We will compute the first thanks to $R\\triangleq exp(w)$ with $w\\in R^3$ as an unconstrained 3d angle vector.\n",
    "\n",
    "The problem can then be written:\n",
    "\n",
    "Decide: \n",
    "- $w\\in R^3$ the ellipsoid orientation\n",
    "- $c \\in R^3$ the ellipsoid center\n",
    "- $r \\in R^3$ the radii\n",
    "\n",
    "Minimizing: the ellipsoid volum $\\prod_{i=1}^{3} r_i$\n",
    "\n",
    "Subject to:\n",
    "- $r>=0$\n",
    "- $\\forall v \\in V:  (v-c)^T A (v-c) \\le 1$\n",
    "with $V$ the list of vertices, and $A$ defined as above mentionned from the decision variables.\n",
    "\n"
   ]
  },
  {
   "cell_type": "markdown",
   "id": "4c88a7ad",
   "metadata": {},
   "source": [
    "### Helpers \n",
    "When writing this problem, $A$ and $c$ will be represented in the same frame as $V$. Remember that the vertices of the shape are given in the shape frame. Converting them in the joint frame can be done with geom.placement:"
   ]
  },
  {
   "cell_type": "code",
   "execution_count": 9,
   "id": "b25f1e3a",
   "metadata": {},
   "outputs": [
    {
     "data": {
      "text/plain": [
       "array([ 0.06140732, -0.07101219,  0.        ])"
      ]
     },
     "execution_count": 9,
     "metadata": {},
     "output_type": "execute_result"
    }
   ],
   "source": [
    "geom.placement.act(vertices[0, :])"
   ]
  },
  {
   "cell_type": "markdown",
   "id": "d9ce2285",
   "metadata": {},
   "source": [
    "We will need the following simple Casadi helper to get rid of the SX/MX syntax."
   ]
  },
  {
   "cell_type": "code",
   "execution_count": 10,
   "id": "7a5b61a4",
   "metadata": {},
   "outputs": [],
   "source": [
    "# %load tp4/generated/encapsulating_ellipses_helper\n",
    "cw = casadi.SX.sym(\"w\", 3)\n",
    "exp = casadi.Function(\"exp3\", [cw], [cpin.exp3(cw)])"
   ]
  },
  {
   "cell_type": "markdown",
   "id": "c6abb094",
   "metadata": {},
   "source": [
    "Now write an optimization problem with Casadi to compute the representation of the minimal encapsulating ellipsoid in the frame of the parent joint. For that, follow the steps:"
   ]
  },
  {
   "cell_type": "markdown",
   "id": "a6e80a8b",
   "metadata": {},
   "source": [
    "1. Define the decision variables $w,c,r$."
   ]
  },
  {
   "cell_type": "code",
   "execution_count": 11,
   "id": "4f9ade31",
   "metadata": {},
   "outputs": [],
   "source": [
    "# %load tp4/generated/encapsulating_ellipses_vars\n",
    "opti = casadi.Opti()\n",
    "var_w = opti.variable(3)\n",
    "var_r = opti.variable(3)\n",
    "var_c = opti.variable(3)"
   ]
  },
  {
   "cell_type": "markdown",
   "id": "910de1b8",
   "metadata": {},
   "source": [
    "2. Shape the matrix $A$ from the decision variables."
   ]
  },
  {
   "cell_type": "code",
   "execution_count": 12,
   "id": "6287a68b",
   "metadata": {},
   "outputs": [],
   "source": [
    "# %load tp4/generated/encapsulating_ellipses_RA\n",
    "# The ellipsoid matrix is represented by w=log3(R),diag(P) with R,P=eig(A)\n",
    "R = exp(var_w)\n",
    "A = R @ casadi.diag(1 / var_r**2) @ R.T"
   ]
  },
  {
   "cell_type": "markdown",
   "id": "f502451a",
   "metadata": {},
   "source": [
    "3. Define the cost."
   ]
  },
  {
   "cell_type": "code",
   "execution_count": 13,
   "id": "638dd4c0",
   "metadata": {},
   "outputs": [],
   "source": [
    "# %load tp4/generated/encapsulating_ellipses_cost\n",
    "totalcost = var_r[0] * var_r[1] * var_r[2]"
   ]
  },
  {
   "cell_type": "markdown",
   "id": "7877f866",
   "metadata": {},
   "source": [
    "4. Define the radius positivity."
   ]
  },
  {
   "cell_type": "code",
   "execution_count": 14,
   "id": "24d80766",
   "metadata": {},
   "outputs": [],
   "source": [
    "# %load tp4/generated/encapsulating_ellipses_rplus\n",
    "opti.subject_to(var_r >= 0)"
   ]
  },
  {
   "cell_type": "markdown",
   "id": "476e3cc7",
   "metadata": {},
   "source": [
    "5. Define the encapsulating constraint."
   ]
  },
  {
   "cell_type": "code",
   "execution_count": 15,
   "id": "f8be3a33",
   "metadata": {},
   "outputs": [],
   "source": [
    "# %load tp4/generated/encapsulating_ellipses_points\n",
    "for g_v in vertices:\n",
    "    # g_v is the vertex v expressed in the geometry frame.\n",
    "    # Convert point from geometry frame to joint frame\n",
    "    j_v = geom.placement.act(g_v)\n",
    "    # Constraint the ellipsoid to be including the point\n",
    "    opti.subject_to((j_v - var_c).T @ A @ (j_v - var_c) <= 1)"
   ]
  },
  {
   "cell_type": "markdown",
   "id": "9db104b5",
   "metadata": {},
   "source": [
    "6. Solve and recover the optimal values."
   ]
  },
  {
   "cell_type": "code",
   "execution_count": 16,
   "id": "581430ff",
   "metadata": {},
   "outputs": [
    {
     "name": "stdout",
     "output_type": "stream",
     "text": [
      "\n",
      "******************************************************************************\n",
      "This program contains Ipopt, a library for large-scale nonlinear optimization.\n",
      " Ipopt is released as open source code under the Eclipse Public License (EPL).\n",
      "         For more information visit https://github.com/coin-or/Ipopt\n",
      "******************************************************************************\n",
      "\n",
      "This is Ipopt version 3.14.11, running with linear solver MUMPS 5.4.1.\n",
      "\n",
      "Number of nonzeros in equality constraint Jacobian...:        0\n",
      "Number of nonzeros in inequality constraint Jacobian.:     1668\n",
      "Number of nonzeros in Lagrangian Hessian.............:       45\n",
      "\n",
      "Total number of variables............................:        9\n",
      "                     variables with only lower bounds:        0\n",
      "                variables with lower and upper bounds:        0\n",
      "                     variables with only upper bounds:        0\n",
      "Total number of equality constraints.................:        0\n",
      "Total number of inequality constraints...............:      188\n",
      "        inequality constraints with only lower bounds:        3\n",
      "   inequality constraints with lower and upper bounds:        0\n",
      "        inequality constraints with only upper bounds:      185\n",
      "\n",
      "iter    objective    inf_pr   inf_du lg(mu)  ||d||  lg(rg) alpha_du alpha_pr  ls\n",
      "   0  1.0000000e+03 0.00e+00 4.95e+01  -1.0 0.00e+00    -  0.00e+00 0.00e+00   0\n",
      "   1  8.6980995e+02 0.00e+00 4.56e+01  -1.0 4.54e-01   2.0 1.00e+00 1.00e+00f  1\n",
      "   2  6.1052823e+02 0.00e+00 3.65e+01  -1.0 1.06e+00   1.5 1.00e+00 1.00e+00f  1\n",
      "   3  2.9372783e+02 0.00e+00 2.38e+01  -1.0 1.84e+00   1.0 1.00e+00 1.00e+00f  1\n",
      "   4  9.1972742e+01 0.00e+00 1.25e+01  -1.0 2.13e+00   0.6 1.00e+00 1.00e+00f  1\n",
      "   5  5.5171209e+01 0.00e+00 7.49e+00  -1.0 7.07e-01   1.0 1.00e+00 1.00e+00f  1\n",
      "   6  2.1687478e+01 0.00e+00 4.39e+00  -1.0 1.02e+00   0.5 1.00e+00 1.00e+00f  1\n",
      "   7  1.4788068e+01 0.00e+00 3.05e+00  -1.0 3.35e-01   0.9 1.00e+00 1.00e+00f  1\n",
      "   8  6.8624453e+00 0.00e+00 1.94e+00  -1.0 5.59e-01   0.5 1.00e+00 1.00e+00f  1\n",
      "   9  1.9259062e+00 0.00e+00 1.16e+00  -1.0 1.05e+00  -0.0 1.00e+00 1.00e+00f  1\n",
      "iter    objective    inf_pr   inf_du lg(mu)  ||d||  lg(rg) alpha_du alpha_pr  ls\n",
      "  10  9.9289291e-01 0.00e+00 8.86e-01  -1.0 3.41e-01   0.4 1.00e+00 1.00e+00f  1\n",
      "  11  1.2681112e-02 1.96e+01 5.65e+04  -1.7 1.29e+00  -0.1 8.53e-01 3.86e-01f  1\n",
      "  12  2.0041045e-02 8.25e+00 2.51e+04  -1.7 3.44e-01  -0.5 1.00e+00 1.00e+00h  1\n",
      "  13  2.7978940e-02 4.50e+00 1.39e+04  -1.7 9.41e-01  -1.0 1.00e+00 6.81e-01h  1\n",
      "  14  4.5488720e-02 1.61e+00 6.03e+03  -1.7 2.44e-01  -1.5 1.00e+00 1.00e+00h  1\n",
      "  15  5.8055658e-02 4.39e-01 2.44e+03  -1.7 1.23e-01  -2.0 1.00e+00 1.00e+00h  1\n",
      "  16  5.2517782e-02 0.00e+00 8.04e+02  -1.7 2.32e-01  -2.4 1.00e+00 1.00e+00h  1\n",
      "  17  4.2722534e-02 0.00e+00 2.47e+02  -1.7 3.68e-01    -  1.00e+00 1.00e+00h  1\n",
      "  18  4.1091307e-02 0.00e+00 9.63e+01  -1.7 9.49e-01    -  1.00e+00 1.00e+00h  1\n",
      "  19  4.4162281e-02 0.00e+00 3.93e+01  -1.7 2.20e-01  -2.9 1.00e+00 1.00e+00h  1\n",
      "iter    objective    inf_pr   inf_du lg(mu)  ||d||  lg(rg) alpha_du alpha_pr  ls\n",
      "  20  4.6980464e-02 0.00e+00 1.62e+01  -1.7 1.54e+00  -3.4 1.00e+00 1.00e+00h  1\n",
      "  21  5.1043323e-02 0.00e+00 6.65e+00  -1.7 2.47e-01  -2.1 1.00e+00 1.00e+00h  1\n",
      "  22  5.8638473e-02 0.00e+00 2.69e+00  -1.7 1.59e-01  -2.5 1.00e+00 1.00e+00h  1\n",
      "  23  6.4037499e-02 0.00e+00 1.06e+00  -1.7 7.87e-01    -  1.00e+00 1.00e+00h  1\n",
      "  24  7.0773147e-02 0.00e+00 3.80e-01  -1.7 6.08e-01    -  1.00e+00 1.00e+00h  1\n",
      "  25  7.6723418e-02 0.00e+00 1.10e-01  -1.7 1.15e-01    -  1.00e+00 1.00e+00h  1\n",
      "  26  4.2379390e-02 0.00e+00 1.59e-01  -2.5 1.46e-01    -  1.00e+00 1.00e+00h  1\n",
      "  27  2.1493241e-02 0.00e+00 2.14e-02  -2.5 1.58e-01    -  1.00e+00 1.00e+00h  1\n",
      "  28  1.1574737e-02 0.00e+00 8.42e-02  -3.8 5.27e-02    -  1.00e+00 1.00e+00h  1\n",
      "  29  1.0742825e-02 0.00e+00 1.76e-02  -3.8 1.72e-02  -1.2 1.00e+00 1.00e+00h  1\n",
      "iter    objective    inf_pr   inf_du lg(mu)  ||d||  lg(rg) alpha_du alpha_pr  ls\n",
      "  30  6.4084531e-03 0.00e+00 4.50e-02  -3.8 5.54e-02    -  1.00e+00 1.00e+00h  1\n",
      "  31  3.8222908e-03 0.00e+00 2.05e-02  -3.8 7.83e-02    -  1.00e+00 1.00e+00h  1\n",
      "  32  4.0840444e-03 0.00e+00 3.43e-03  -3.8 9.01e-03    -  1.00e+00 1.00e+00h  1\n",
      "  33  4.1333679e-03 0.00e+00 1.56e-04  -3.8 1.50e-03    -  1.00e+00 1.00e+00h  1\n",
      "  34  2.2472892e-03 0.00e+00 2.94e-02  -5.7 9.15e-02    -  1.00e+00 1.00e+00h  1\n",
      "  35  2.5099511e-03 0.00e+00 3.72e-03  -5.7 7.70e-03  -1.7 1.00e+00 1.00e+00h  1\n",
      "  36  1.2798935e-03 0.00e+00 2.50e-02  -5.7 1.44e-01    -  1.00e+00 1.00e+00h  1\n",
      "  37  1.4701148e-03 0.00e+00 4.06e-03  -5.7 7.66e-03  -2.2 1.00e+00 1.00e+00h  1\n",
      "  38  7.7727200e-04 0.00e+00 1.37e-02  -5.7 1.94e-01    -  1.00e+00 1.00e+00h  1\n",
      "  39  8.8458652e-04 0.00e+00 2.16e-03  -5.7 6.09e-03  -2.7 1.00e+00 1.00e+00h  1\n",
      "iter    objective    inf_pr   inf_du lg(mu)  ||d||  lg(rg) alpha_du alpha_pr  ls\n",
      "  40  5.7280481e-04 0.00e+00 4.02e-03  -5.7 1.66e-01    -  1.00e+00 1.00e+00h  1\n",
      "  41  5.4450888e-04 0.00e+00 6.66e-04  -5.7 1.15e-01    -  1.00e+00 1.00e+00h  1\n",
      "  42  5.5647830e-04 0.00e+00 5.82e-06  -5.7 2.16e-02    -  1.00e+00 1.00e+00h  1\n",
      "  43  5.5656482e-04 0.00e+00 9.90e-10  -5.7 4.88e-04    -  1.00e+00 1.00e+00h  1\n",
      "  44  4.1447246e-04 0.00e+00 1.62e-03  -8.6 1.67e-01    -  1.00e+00 1.00e+00h  1\n",
      "  45  3.8215947e-04 1.05e-02 5.81e-04  -8.6 1.78e-01    -  1.00e+00 6.37e-01h  1\n",
      "  46  3.7811083e-04 6.99e-03 3.80e-04  -8.6 8.60e-02    -  8.20e-01 3.47e-01h  1\n",
      "  47  3.7526041e-04 3.92e-03 1.75e-04  -8.6 5.62e-02    -  8.92e-01 5.44e-01h  1\n",
      "  48  3.7454386e-04 2.33e-03 8.25e-05  -8.6 2.28e-02    -  7.16e-01 5.31e-01h  1\n",
      "  49  3.7431196e-04 5.13e-04 2.01e-05  -8.6 9.43e-03    -  1.00e+00 7.58e-01h  1\n",
      "iter    objective    inf_pr   inf_du lg(mu)  ||d||  lg(rg) alpha_du alpha_pr  ls\n",
      "  50  3.7454599e-04 5.04e-05 3.09e-05  -8.6 1.60e-03    -  3.87e-01 9.14e-01h  1\n",
      "  51  3.7452896e-04 0.00e+00 2.95e-10  -8.6 9.77e-04    -  1.00e+00 1.00e+00f  1\n",
      "\n",
      "Number of Iterations....: 51\n",
      "\n",
      "                                   (scaled)                 (unscaled)\n",
      "Objective...............:   3.7452896366896131e-04    3.7452896366896131e-04\n",
      "Dual infeasibility......:   2.9536855730358247e-10    2.9536855730358247e-10\n",
      "Constraint violation....:   0.0000000000000000e+00    0.0000000000000000e+00\n",
      "Variable bound violation:   0.0000000000000000e+00    0.0000000000000000e+00\n",
      "Complementarity.........:   3.9733574593700282e-09    3.9733574593700282e-09\n",
      "Overall NLP error.......:   3.9733574593700282e-09    3.9733574593700282e-09\n",
      "\n",
      "\n",
      "Number of objective function evaluations             = 52\n",
      "Number of objective gradient evaluations             = 52\n",
      "Number of equality constraint evaluations            = 0\n",
      "Number of inequality constraint evaluations          = 52\n",
      "Number of equality constraint Jacobian evaluations   = 0\n",
      "Number of inequality constraint Jacobian evaluations = 52\n",
      "Number of Lagrangian Hessian evaluations             = 51\n",
      "Total seconds in IPOPT                               = 0.205\n",
      "\n",
      "EXIT: Optimal Solution Found.\n",
      "      solver  :   t_proc      (avg)   t_wall      (avg)    n_eval\n",
      "       nlp_f  | 142.00us (  2.73us) 136.44us (  2.62us)        52\n",
      "       nlp_g  |   6.03ms (115.98us)   5.99ms (115.16us)        52\n",
      "  nlp_grad_f  | 201.00us (  3.79us) 194.30us (  3.67us)        53\n",
      "  nlp_hess_l  |  69.86ms (  1.37ms)  69.88ms (  1.37ms)        51\n",
      "   nlp_jac_g  |  36.13ms (681.79us)  36.07ms (680.51us)        53\n",
      "       total  | 205.94ms (205.94ms) 205.20ms (205.20ms)         1\n"
     ]
    }
   ],
   "source": [
    "# %load tp4/generated/encapsulating_ellipses_solve\n",
    "opti.minimize(totalcost)\n",
    "opti.solver(\"ipopt\")  # set numerical backend\n",
    "opti.set_initial(var_r, 10)\n",
    "\n",
    "sol = opti.solve_limited()\n",
    "\n",
    "sol_r = opti.value(var_r)\n",
    "sol_A = opti.value(A)\n",
    "sol_c = opti.value(var_c)\n",
    "sol_R = opti.value(exp(var_w))"
   ]
  },
  {
   "cell_type": "markdown",
   "id": "d9a302d5",
   "metadata": {},
   "source": [
    "### Display and future use\n",
    "\n",
    "The ellipoid can be displayed in Meshcat. You need to give the radii to create the shape, and then place it at the center with proper orientaion. So Meshcat needs $(c,r,R)$ and not $(A,c)$. You can get $r,R$ from $A$ by Eigen decomposion."
   ]
  },
  {
   "cell_type": "code",
   "execution_count": 17,
   "id": "4092daf1",
   "metadata": {},
   "outputs": [],
   "source": [
    "# %load tp4/generated/encapsulating_ellipses_meshcat\n",
    "# Build the ellipsoid 3d shape\n",
    "# Ellipsoid in meshcat\n",
    "viz.addEllipsoid(\"el\", sol_r, [0.3, 0.9, 0.3, 0.3])\n",
    "# jMel is the placement of the ellipsoid in the joint frame\n",
    "jMel = pin.SE3(sol_R, sol_c)"
   ]
  },
  {
   "cell_type": "markdown",
   "id": "f0b2608f",
   "metadata": {},
   "source": [
    "We can now place the initial shape geom, the vertices represented by small spheres, and the ellispoid, at a consistent location."
   ]
  },
  {
   "cell_type": "code",
   "execution_count": 18,
   "id": "03f40757",
   "metadata": {},
   "outputs": [],
   "source": [
    "# %load tp4/generated/encapsulating_ellipses_vizplace\n",
    "# Place the body, the vertices and the ellispod at a random configuration oMj_rand\n",
    "oMj_rand = pin.SE3.Random()\n",
    "viz.applyConfiguration(viz.getViewerNodeName(geom, pin.VISUAL), oMj_rand)\n",
    "for i in np.arange(0, vertices.shape[0]):\n",
    "    viz.applyConfiguration(\n",
    "        f\"world/point_{i}\", oMj_rand.act(vertices[i]).tolist() + [1, 0, 0, 0]\n",
    "    )\n",
    "viz.applyConfiguration(\"el\", oMj_rand * jMel)"
   ]
  },
  {
   "cell_type": "markdown",
   "id": "cd77e60e",
   "metadata": {},
   "source": [
    "## Inverse geometry with collisions"
   ]
  },
  {
   "cell_type": "markdown",
   "id": "45ce7be5",
   "metadata": {},
   "source": [
    "We will now write an inverse geometry problem under noncollision constraint. Ideally, the noncollision constraint should be that the distance between the bodies is positive (we might even argue whether this is sufficient or not). HPP-FCL is computing this function, yet differenciating it is more difficult as distances between nonstrictly-convex object is not a smooth function. Recent works, for example the work of Louis Montaut (2022), give some direction to solve this issue, but they are not yet fully available, and in particular not with the automatic differentiation system of Casadi.\n",
    "\n",
    "We are then going to use a simple collision constraint: keep a point outside of an ellispoid by making the quadratic ellispoid equation larger than 1:\n",
    "$$ \\forall \\mathcal{E}, \\forall p, (^\\mathcal{E}p-c_\\mathcal{E})^T A_\\mathcal{E} (^\\mathcal{E}p-c_\\mathcal{E}) \\ge 1$$\n",
    "\n",
    "with $\\mathcal{E} = (A_\\mathcal{E},c_\\mathcal{E})$ the ellispoid en $^\\mathcal{E}p$ the representation of the obstacle $p$ (a simple point) in the ellispoid frame.\n",
    "\n",
    "Louis Montaut (2022). Collision Detection Accelerated: An Optimization Perspective, by L Montaut, Q Le Lidec, V Petrik, J Sivic, J Carpentier. RSS\n"
   ]
  },
  {
   "cell_type": "markdown",
   "id": "9ebe0b17",
   "metadata": {},
   "source": [
    "We are going to do that for a UR-10 robot positioning its end effector, for you to adapt it to any humanoid robot you want within a full optimal control setting."
   ]
  },
  {
   "cell_type": "code",
   "execution_count": 19,
   "id": "62feb08d",
   "metadata": {},
   "outputs": [],
   "source": [
    "# %load tp4/generated/invgeom_with_obstacles_hyper\n",
    "# HYPER PARAMETERS\n",
    "Mtarget = pin.SE3(pin.utils.rotate(\"y\", 3),\n",
    "                  np.array([-0.8, -0.1, 0.2]))  # x,y,z\n",
    "q0 = np.array([0, 5, 3, 0, 2, 0])\n",
    "endEffectorFrameName = \"tool0\""
   ]
  },
  {
   "cell_type": "code",
   "execution_count": 20,
   "id": "049d6ce8",
   "metadata": {},
   "outputs": [],
   "source": [
    "# %load tp4/generated/invgeom_with_obstacles_model\n",
    "# The pinocchio model is what we are really interested by.\n",
    "model = robot.model\n",
    "data = model.createData()\n",
    "endEffector_ID = model.getFrameId(endEffectorFrameName)"
   ]
  },
  {
   "cell_type": "markdown",
   "id": "a5ad9e1b",
   "metadata": {},
   "source": [
    "### UR-10 ellipsoids and obstacles\n",
    "You can compute the encapsulating ellispoids with the first part of the notebook, for the robot you prefer. Do that for all meaningfull bodies of your robot, and store them in a list which each items e contains the following fields:\n",
    "- e.A: the ellipsoid matrix\n",
    "- e.center: its center\n",
    "- e.rotation: the orientation of its main axes\n",
    "- e.radius: the 3 radii\n",
    "- e.placement: SE3(e.rotation,e.center)\n",
    "- e.id: the id of the joint it is attached to\n",
    "- e.name: for display\n",
    "\n",
    "In case you need it, here is the UR10 set up, using the SimpleNamespace class."
   ]
  },
  {
   "cell_type": "code",
   "execution_count": 21,
   "id": "01d0b9e5",
   "metadata": {},
   "outputs": [],
   "source": [
    "from types import SimpleNamespace"
   ]
  },
  {
   "cell_type": "code",
   "execution_count": 22,
   "id": "c4dbd4a1",
   "metadata": {},
   "outputs": [],
   "source": [
    "# %load tp4/generated/invgeom_with_obstacles_ellipses\n",
    "# These values are computed using encapsulating_ellipse.py\n",
    "ellipses = [\n",
    "    SimpleNamespace(\n",
    "        name=\"shoulder_lift_joint\",\n",
    "        A=np.array(\n",
    "            [\n",
    "                [75.09157846, 0.34008563, -0.08817025],\n",
    "                [0.34008563, 60.94969446, -0.55672959],\n",
    "                [-0.08817025, -0.55672959, 3.54456814],\n",
    "            ]\n",
    "        ),\n",
    "        center=np.array([-1.05980885e-04, -5.23471160e-02, 2.26280651e-01]),\n",
    "    ),\n",
    "    SimpleNamespace(\n",
    "        name=\"elbow_joint\",\n",
    "        A=np.array(\n",
    "            [\n",
    "                [1.30344372e02, -5.60880392e-02, -1.87555288e-02],\n",
    "                [-5.60880392e-02, 9.06119040e01, 1.65531606e-01],\n",
    "                [-1.87555288e-02, 1.65531606e-01, 4.08568387e00],\n",
    "            ]\n",
    "        ),\n",
    "        center=np.array([-2.01944435e-05, 7.22262249e-03, 2.38805264e-01]),\n",
    "    ),\n",
    "    SimpleNamespace(\n",
    "        name=\"wrist_1_joint\",\n",
    "        A=np.array(\n",
    "            [\n",
    "                [2.31625634e02, 5.29558437e-01, -1.62729657e-01],\n",
    "                [5.29558437e-01, 2.18145143e02, -1.42425434e01],\n",
    "                [-1.62729657e-01, -1.42425434e01, 1.73855962e02],\n",
    "            ]\n",
    "        ),\n",
    "        center=np.array([-9.78431524e-05, 1.10181763e-01, 6.67932259e-03]),\n",
    "    ),\n",
    "    SimpleNamespace(\n",
    "        name=\"wrist_2_joint\",\n",
    "        A=np.array(\n",
    "            [\n",
    "                [2.32274519e02, 1.10812959e-01, -1.12998357e-02],\n",
    "                [1.10812959e-01, 1.72324444e02, -1.40077876e01],\n",
    "                [-1.12998357e-02, -1.40077876e01, 2.19132854e02],\n",
    "            ]\n",
    "        ),\n",
    "        center=np.array([-2.64650554e-06, 6.27960760e-03, 1.11112087e-01]),\n",
    "    ),\n",
    "]"
   ]
  },
  {
   "cell_type": "code",
   "execution_count": 23,
   "id": "59b2da3f",
   "metadata": {},
   "outputs": [],
   "source": [
    "# %load tp4/generated/invgeom_with_obstacles_ellipses_2\n",
    "for e in ellipses:\n",
    "    e.id = robot.model.getJointId(e.name)\n",
    "    l, P = np.linalg.eig(e.A)\n",
    "    e.radius = 1 / l**0.5\n",
    "    e.rotation = P\n",
    "    e.placement = pin.SE3(P, e.center)"
   ]
  },
  {
   "cell_type": "markdown",
   "id": "565d10ca",
   "metadata": {},
   "source": [
    "Obstacles are stored in a similar list, with each item o containing:\n",
    "- o.name: for display\n",
    "- o.radius: for visualizing it as a sphere in meshcat\n",
    "- o.pos: the 3d position in world frame."
   ]
  },
  {
   "cell_type": "code",
   "execution_count": 24,
   "id": "9093424d",
   "metadata": {},
   "outputs": [],
   "source": [
    "# %load tp4/generated/invgeom_with_obstacles_obstacles\n",
    "# Obstacle positions are arbitrary. Their radius is meaningless, just for visualization.\n",
    "obstacles = [\n",
    "    SimpleNamespace(radius=0.01, pos=np.array(\n",
    "        [-0.4, 0.2 + s, 0.5]), name=f\"obs_{i_s}\")\n",
    "    for i_s, s in enumerate(np.arange(-0.5, 0.5, 0.1))\n",
    "]"
   ]
  },
  {
   "cell_type": "markdown",
   "id": "78da257e",
   "metadata": {},
   "source": [
    "Here is the visualisation of the set up."
   ]
  },
  {
   "cell_type": "code",
   "execution_count": 25,
   "id": "4280b4aa",
   "metadata": {},
   "outputs": [],
   "source": [
    "# %load tp4/generated/invgeom_with_obstacles_vizellipses\n",
    "for e in ellipses:\n",
    "    viz.addEllipsoid(f\"el_{e.name}\", e.radius, [0.3, 0.9, 0.3, 0.3])\n",
    "for io, o in enumerate(obstacles):\n",
    "    viz.addSphere(f\"obs_{io}\", o.radius, [0.8, 0.3, 0.3, 0.9])"
   ]
  },
  {
   "cell_type": "code",
   "execution_count": 26,
   "id": "2203515a",
   "metadata": {},
   "outputs": [],
   "source": [
    "# %load tp4/generated/invgeom_with_obstacles_vizsimples\n",
    "# --- Add box to represent target\n",
    "# Add a vizualization for the target\n",
    "boxID = \"world/box\"\n",
    "viz.addBox(boxID, [0.05, 0.1, 0.2], [1.0, 0.2, 0.2, 0.5])\n",
    "# Add a vizualisation for the tip of the arm.\n",
    "tipID = \"world/blue\"\n",
    "viz.addBox(tipID, [0.08] * 3, [0.2, 0.2, 1.0, 0.5])"
   ]
  },
  {
   "cell_type": "code",
   "execution_count": 27,
   "id": "a1e4ff74",
   "metadata": {},
   "outputs": [],
   "source": [
    "import time"
   ]
  },
  {
   "cell_type": "code",
   "execution_count": 28,
   "id": "6dfba0b2",
   "metadata": {},
   "outputs": [],
   "source": [
    "# %load tp4/generated/invgeom_with_obstacles_viz\n",
    "def displayScene(q, dt=1e-1):\n",
    "    \"\"\"\n",
    "    Given the robot configuration, display:\n",
    "    - the robot\n",
    "    - a box representing endEffector_ID\n",
    "    - a box representing Mtarget\n",
    "    \"\"\"\n",
    "    pin.framesForwardKinematics(model, data, q)\n",
    "    M = data.oMf[endEffector_ID]\n",
    "    viz.applyConfiguration(boxID, Mtarget)\n",
    "    viz.applyConfiguration(tipID, M)\n",
    "    for e in ellipses:\n",
    "        M = data.oMi[e.id]\n",
    "        viz.applyConfiguration(f\"el_{e.name}\", M * e.placement)\n",
    "    for io, o in enumerate(obstacles):\n",
    "        viz.applyConfiguration(f\"obs_{io}\", pin.SE3(np.eye(3), o.pos))\n",
    "    viz.display(q)\n",
    "    time.sleep(dt)\n",
    "\n",
    "\n",
    "displayScene(robot.q0)"
   ]
  },
  {
   "cell_type": "markdown",
   "id": "fef5a27b",
   "metadata": {},
   "source": [
    "### Writing the problem\n",
    "The inverse geometry with collision will be written:\n",
    "\n",
    "Decide: $q \\in \\mathcal{Q}$ the robot configuration\n",
    "\n",
    "Minimizing: $|| tool(q) - target ||^2$\n",
    "\n",
    "Subject to: $$\\forall \\mathcal{E}, \\forall p, (^\\mathcal{E}p-c_\\mathcal{E})^T A_\\mathcal{E} (^\\mathcal{E}p-c_\\mathcal{E}) \\ge 1$$\n",
    "\n",
    "with $tool(q)$ the end effector position with respect to a given $target$, $\\mathcal{E}$ the ellipsoids described in associated joint frames, and $^\\mathcal{E}p = \\ ^oM_\\mathcal{E}^{-1} \\ ^op$ the position of each obstacle expressed in the joint frames associated to each ellispoid.\n",
    "\n",
    "Classically, we need the basic Casadi helpers to get read of the SX/MX formulation.\n"
   ]
  },
  {
   "cell_type": "code",
   "execution_count": 29,
   "id": "25e6c797",
   "metadata": {},
   "outputs": [],
   "source": [
    "# %load tp4/generated/invgeom_with_obstacles_casadi\n",
    "# --- Casadi helpers\n",
    "cmodel = cpin.Model(model)\n",
    "cdata = cmodel.createData()\n",
    "\n",
    "cq = casadi.SX.sym(\"q\", model.nq, 1)\n",
    "cpin.framesForwardKinematics(cmodel, cdata, cq)\n",
    "error6_tool = casadi.Function(\n",
    "    \"etool\",\n",
    "    [cq],\n",
    "    [cpin.log6(cdata.oMf[endEffector_ID].inverse()\n",
    "               * cpin.SE3(Mtarget)).vector],\n",
    ")\n",
    "error3_tool = casadi.Function(\n",
    "    \"etool\", [cq], [cdata.oMf[endEffector_ID].translation - Mtarget.translation]\n",
    ")\n",
    "error_tool = error3_tool"
   ]
  },
  {
   "cell_type": "markdown",
   "id": "4260a19b",
   "metadata": {},
   "source": [
    "For each ellispoid, we need to compute the obstacle position in local frame."
   ]
  },
  {
   "cell_type": "code",
   "execution_count": 30,
   "id": "b34e13c7",
   "metadata": {},
   "outputs": [],
   "source": [
    "# %load tp4/generated/invgeom_with_obstacles_e_pos\n",
    "cpos = casadi.SX.sym(\"p\", 3)\n",
    "for e in ellipses:\n",
    "    # Position of the obstacle cpos in the ellipse frame.\n",
    "    e.e_pos = casadi.Function(\n",
    "        f\"e{e.id}\", [cq, cpos], [\n",
    "            cdata.oMi[e.id].inverse().act(casadi.SX(cpos))]\n",
    "    )"
   ]
  },
  {
   "cell_type": "markdown",
   "id": "c3ce4007",
   "metadata": {},
   "source": [
    "Using these helpers, write the optimization problem following these steps.\n",
    "\n",
    "1. Declare the variables, and compute the cost."
   ]
  },
  {
   "cell_type": "code",
   "execution_count": 31,
   "id": "864809a7",
   "metadata": {},
   "outputs": [],
   "source": [
    "# %load tp4/generated/invgeom_with_obstacles_opti\n",
    "opti = casadi.Opti()\n",
    "var_q = opti.variable(model.nq)\n",
    "totalcost = casadi.sumsqr(error_tool(var_q))\n"
   ]
  },
  {
   "cell_type": "markdown",
   "id": "1c99ed96",
   "metadata": {},
   "source": [
    "2. For each pair ellispoid-obstacle, add a constraint."
   ]
  },
  {
   "cell_type": "code",
   "execution_count": 32,
   "id": "24812b6d",
   "metadata": {},
   "outputs": [],
   "source": [
    "# %load tp4/generated/invgeom_with_obstacles_constraint\n",
    "for e in ellipses:\n",
    "    for o in obstacles:\n",
    "        # obstacle position in ellipsoid (joint) frame\n",
    "        e_pos = e.e_pos(var_q, o.pos)\n",
    "        opti.subject_to((e_pos - e.center).T @ e.A @ (e_pos - e.center) >= 1)\n"
   ]
  },
  {
   "cell_type": "markdown",
   "id": "9740909a",
   "metadata": {},
   "source": [
    "3. Solve"
   ]
  },
  {
   "cell_type": "code",
   "execution_count": 33,
   "id": "db04cfda",
   "metadata": {},
   "outputs": [],
   "source": [
    "# %load tp4/generated/invgeom_with_obstacles_solve\n",
    "opti.minimize(totalcost)\n",
    "p_opts = dict(print_time=False, verbose=False)\n",
    "s_opts = dict(print_level=0)\n",
    "opti.solver(\"ipopt\")  # set numerical backend\n",
    "opti.set_initial(var_q, robot.q0)\n",
    "\n",
    "# Caution: in case the solver does not converge, we are picking the candidate values\n",
    "# at the last iteration in opti.debug, and they are NO guarantee of what they mean.\n",
    "try:\n",
    "    sol = opti.solve_limited()\n",
    "    sol_q = opti.value(var_q)\n",
    "except:\n",
    "    print(\"ERROR in convergence, plotting debug info.\")\n",
    "    sol_q = opti.debug.value(var_q)\n"
   ]
  }
 ],
 "metadata": {
  "kernelspec": {
   "display_name": "myenv",
   "language": "python",
   "name": "myenv"
  },
  "language_info": {
   "codemirror_mode": {
    "name": "ipython",
    "version": 3
   },
   "file_extension": ".py",
   "mimetype": "text/x-python",
   "name": "python",
   "nbconvert_exporter": "python",
   "pygments_lexer": "ipython3",
   "version": "3.10.10"
  }
 },
 "nbformat": 4,
 "nbformat_minor": 5
}
