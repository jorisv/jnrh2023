{
 "cells": [
  {
   "cell_type": "markdown",
   "id": "dbbcc7a6-5714-4d5b-b522-d07f2ab52df2",
   "metadata": {},
   "source": [
    "# KCMPC"
   ]
  },
  {
   "cell_type": "code",
   "execution_count": 1,
   "id": "5d627c04-2af6-4e04-9705-0609a480640e",
   "metadata": {},
   "outputs": [],
   "source": [
    "import time\n",
    "import unittest\n",
    "\n",
    "import casadi\n",
    "import example_robot_data as robex\n",
    "import numpy as np\n",
    "import pinocchio as pin\n",
    "from numpy.linalg import norm\n",
    "from pinocchio import casadi as cpin\n",
    "from scipy.optimize import fmin_bfgs\n",
    "\n",
    "from utils.meshcat_viewer_wrapper import MeshcatVisualizer"
   ]
  },
  {
   "cell_type": "markdown",
   "id": "3b484cf4-6def-4a1e-8197-08dc6cc61935",
   "metadata": {},
   "source": [
    "### import model"
   ]
  },
  {
   "cell_type": "code",
   "execution_count": 2,
   "id": "4d677013-3626-4b34-9e93-737e812960e4",
   "metadata": {
    "editable": true,
    "slideshow": {
     "slide_type": ""
    },
    "tags": []
   },
   "outputs": [
    {
     "name": "stderr",
     "output_type": "stream",
     "text": [
      "/Users/zhangjixiang/Code/jnrh2023/myenv/lib/python3.11/site-packages/cmeel.prefix/lib/python3.11/site-packages/example_robot_data/robots_loader.py:319: UserWarning: Deprecated member. Use Frame.parentJoint instead.\n",
      "  if f.parent < legMaxId:\n"
     ]
    },
    {
     "name": "stdout",
     "output_type": "stream",
     "text": [
      "You can open the visualizer by visiting the following URL:\n",
      "http://127.0.0.1:7001/static/\n"
     ]
    },
    {
     "data": {
      "text/html": [
       "\n",
       "            <div style=\"height: 400px; width: 100%; overflow-x: auto; overflow-y: hidden; resize: both\">\n",
       "            <iframe src=\"http://127.0.0.1:7001/static/\" style=\"width: 100%; height: 100%; border: none\"></iframe>\n",
       "            </div>\n",
       "            "
      ],
      "text/plain": [
       "<IPython.core.display.HTML object>"
      ]
     },
     "execution_count": 2,
     "metadata": {},
     "output_type": "execute_result"
    }
   ],
   "source": [
    "robot = robex.load(\"talos_legs\")\n",
    "# Open the viewer\n",
    "viz = MeshcatVisualizer(robot)\n",
    "viz.display(robot.q0)\n",
    "viz.viewer.jupyter_cell()"
   ]
  },
  {
   "cell_type": "code",
   "execution_count": 3,
   "id": "54211d67-e415-4a9f-be4f-8827b3f946c3",
   "metadata": {},
   "outputs": [],
   "source": [
    "from pinocchio.utils import eye\n",
    "\n",
    "model = robot.model\n",
    "left_jID = model.getJointId(\"leg_left_6_joint\")\n",
    "right_jID = model.getJointId(\"leg_right_6_joint\")\n",
    "model.addFrame(pin.Frame('left_contact_point_1', left_jID, pin.SE3(\n",
    "    eye(3), np.matrix([.1,  .06, -0.1]).T), pin.FrameType.OP_FRAME))\n",
    "model.addFrame(pin.Frame('left_contact_point_2', left_jID, pin.SE3(\n",
    "    eye(3), np.matrix([-.1,  .06, -0.1]).T), pin.FrameType.OP_FRAME))\n",
    "model.addFrame(pin.Frame('left_contact_point_3', left_jID, pin.SE3(\n",
    "    eye(3), np.matrix([-.1, -.06, -0.1]).T), pin.FrameType.OP_FRAME))\n",
    "model.addFrame(pin.Frame('left_contact_point_4', left_jID, pin.SE3(\n",
    "    eye(3), np.matrix([.1, -.06, -0.1]).T), pin.FrameType.OP_FRAME))\n",
    "model.addFrame(pin.Frame('right_contact_point_1', right_jID, pin.SE3(\n",
    "    eye(3), np.matrix([.1,  .06, -0.1]).T), pin.FrameType.OP_FRAME))\n",
    "model.addFrame(pin.Frame('right_contact_point_2', right_jID, pin.SE3(\n",
    "    eye(3), np.matrix([-.1,  .06, -0.1]).T), pin.FrameType.OP_FRAME))\n",
    "model.addFrame(pin.Frame('right_contact_point_3', right_jID, pin.SE3(\n",
    "    eye(3), np.matrix([-.1, -.06, -0.1]).T), pin.FrameType.OP_FRAME))\n",
    "model.addFrame(pin.Frame('right_contact_point_4', right_jID, pin.SE3(\n",
    "    eye(3), np.matrix([.1, -.06, -0.1]).T), pin.FrameType.OP_FRAME))\n",
    "data = model.createData()"
   ]
  },
  {
   "cell_type": "code",
   "execution_count": 4,
   "id": "c70292fd-d3d7-4162-ae52-79f39f64fc27",
   "metadata": {},
   "outputs": [],
   "source": [
    "contact_names = [\"left_contact_point_1\", \"left_contact_point_2\", \"left_contact_point_3\", \"left_contact_point_4\",\n",
    "                 \"right_contact_point_1\", \"right_contact_point_2\", \"right_contact_point_3\", \"right_contact_point_4\"]\n",
    "# Add a vizualization for the target\n",
    "for i in range(8):\n",
    "    cID = \"world/\" + contact_names[i]\n",
    "    viz.addSphere(cID, 0.02, [1.0, 0.2, 0.2, 0.5])\n",
    "    pin.framesForwardKinematics(model, data, robot.q0)\n",
    "    viz.applyConfiguration(cID, data.oMf[model.getFrameId(contact_names[i])])"
   ]
  },
  {
   "cell_type": "markdown",
   "id": "0757f1ad-21f0-488b-94f9-7410312df093",
   "metadata": {},
   "source": [
    "### compute casadi graphs"
   ]
  },
  {
   "cell_type": "code",
   "execution_count": 5,
   "id": "c1b0296c-1070-4436-946c-03cf7a12646d",
   "metadata": {},
   "outputs": [
    {
     "name": "stdout",
     "output_type": "stream",
     "text": [
      "Get Graphs Done.\n"
     ]
    }
   ],
   "source": [
    "# --- Casadi helpers\n",
    "cmodel = cpin.Model(model)\n",
    "cdata = cmodel.createData()\n",
    "\n",
    "nq = model.nq\n",
    "nv = model.nv\n",
    "cq = casadi.SX.sym(\"q\", nq, 1)\n",
    "cv = casadi.SX.sym(\"v\", nv, 1)\n",
    "ct = casadi.SX.sym(\"t\")\n",
    "\n",
    "# Compute kinematics casadi graphs\n",
    "cpin.forwardKinematics(cmodel, cdata, cq)\n",
    "cpin.updateFramePlacements(cmodel, cdata)\n",
    "# Compute com casadi graphs\n",
    "cpin.centerOfMass(cmodel, cdata, cq)\n",
    "# Compute centroidal momentum casadi graphs\n",
    "cpin.ccrba(cmodel, cdata, cq, cv)\n",
    "print(\"Get Graphs Done.\")"
   ]
  },
  {
   "cell_type": "code",
   "execution_count": 6,
   "id": "0291a8f3-ba80-48e1-b2f5-c22da3641e63",
   "metadata": {},
   "outputs": [],
   "source": [
    "# Sym graph for the integration operation q,dq -> q(+)dq = model.integrate(q,dq)\n",
    "cintegrate = casadi.Function(\n",
    "    \"integrate\",\n",
    "    [cq, cv],\n",
    "    [cpin.integrate(cmodel, cq, cv)]\n",
    ")\n",
    "\n",
    "cnext = casadi.Function(\n",
    "    \"next\",\n",
    "    [cq, cv, ct],\n",
    "    [cpin.integrate(cmodel, cq, cv * ct)]\n",
    ")"
   ]
  },
  {
   "cell_type": "code",
   "execution_count": 7,
   "id": "20dc91a8-4cea-42d7-ac09-50d2d2da1e75",
   "metadata": {},
   "outputs": [],
   "source": [
    "contacts_fk_list = []\n",
    "for i in range(8):\n",
    "    endEffector_ID = model.getFrameId(contact_names[i])\n",
    "    contacts_fk_list.append(casadi.Function(\n",
    "        contact_names[i]+\"Fun\",\n",
    "        [cq],\n",
    "        [cdata.oMf[endEffector_ID].translation]\n",
    "    ))"
   ]
  },
  {
   "cell_type": "code",
   "execution_count": 8,
   "id": "421a0998-1e36-47c5-95bb-30b7af13bc00",
   "metadata": {},
   "outputs": [],
   "source": [
    "h = casadi.Function(\n",
    "    \"hFun\",\n",
    "    [cq, cv],\n",
    "    [cdata.hg.angular]\n",
    ")"
   ]
  },
  {
   "cell_type": "code",
   "execution_count": 9,
   "id": "cb62de31-68a2-46fc-842c-c82998c2ff5e",
   "metadata": {},
   "outputs": [],
   "source": [
    "com = casadi.Function(\n",
    "    \"comFun\",\n",
    "    [cq],\n",
    "    [cdata.com[0]]\n",
    ")"
   ]
  },
  {
   "cell_type": "code",
   "execution_count": 10,
   "id": "430e2c75-e352-44b4-bc4a-cf717763d410",
   "metadata": {},
   "outputs": [
    {
     "name": "stdout",
     "output_type": "stream",
     "text": [
      "com =  [0.0034147, 0.00228237, 0.618288]\n",
      "h =  [0, 0, 0]\n",
      "left_contact_point_1 [0.091153, 0.144829, 0.00689549]\n",
      "left_contact_point_2 [-0.108847, 0.144829, 0.00689549]\n",
      "left_contact_point_3 [-0.108847, 0.0248293, 0.00710045]\n",
      "left_contact_point_4 [0.091153, 0.0248293, 0.00710045]\n",
      "right_contact_point_1 [0.091153, -0.0251709, 0.00689549]\n",
      "right_contact_point_2 [-0.108847, -0.0251709, 0.00689549]\n",
      "right_contact_point_3 [-0.108847, -0.145171, 0.00710045]\n",
      "right_contact_point_4 [0.091153, -0.145171, 0.00710045]\n"
     ]
    }
   ],
   "source": [
    "print(\"com = \", com(robot.q0))\n",
    "print(\"h = \", h(robot.q0, np.zeros(nv)))\n",
    "for i in range(8):\n",
    "    print(contact_names[i], contacts_fk_list[i](robot.q0))"
   ]
  },
  {
   "cell_type": "markdown",
   "id": "85a95959-e8b0-475f-a2fc-5bef7897b181",
   "metadata": {},
   "source": [
    "### add variables"
   ]
  },
  {
   "cell_type": "code",
   "execution_count": 11,
   "id": "91f0fdc9-6cef-4521-8dcd-0a805aeae637",
   "metadata": {},
   "outputs": [],
   "source": [
    "nT = 17\n",
    "opti = casadi.Opti()\n",
    "\n",
    "\n",
    "var_dq = [opti.variable(robot.nv) for t in range(nT)]\n",
    "var_q = [cintegrate(robot.q0, dq) for dq in var_dq]\n",
    "var_v = [opti.variable(robot.nv) for t in range(nT)]\n",
    "var_t = [opti.variable(1) for t in range(nT)]\n",
    "\n",
    "\n",
    "var_r = [com(q) for q in var_q]\n",
    "var_dr = [opti.variable(3) for t in range(nT)]\n",
    "var_ddr = [opti.variable(3) for t in range(nT)]\n",
    "\n",
    "\n",
    "var_c = [[contacts_fk_list[i](q) for i in range(8)]\n",
    "         for q in var_q]   # len(var_c) == nT\n",
    "var_F = [[opti.variable(3) for i in range(8)]\n",
    "         for t in range(nT)]  # len(var_F) == nT\n",
    "\n",
    "\n",
    "var_h = [h(var_q[t], var_v[t]) for t in range(nT)]\n",
    "var_dh = [opti.variable(3) for t in range(nT)]"
   ]
  },
  {
   "cell_type": "code",
   "execution_count": 12,
   "id": "e29d53d4-9151-434f-87d3-a584dd97d56f",
   "metadata": {},
   "outputs": [],
   "source": [
    "m = pin.computeTotalMass(robot.model)"
   ]
  },
  {
   "cell_type": "code",
   "execution_count": 13,
   "id": "89fe54e2-9ddc-42e6-9cdd-5bf06ac48e97",
   "metadata": {},
   "outputs": [],
   "source": [
    "g = robot.model.gravity981"
   ]
  },
  {
   "cell_type": "markdown",
   "id": "48643bb9-2e0d-4cc9-80ff-9c68162c497d",
   "metadata": {},
   "source": [
    "### add constraints"
   ]
  },
  {
   "cell_type": "code",
   "execution_count": 14,
   "id": "aaeb3b8b-e609-461e-aab9-d0f0659cb92c",
   "metadata": {},
   "outputs": [],
   "source": [
    "# 7a\n",
    "for k in range(1, nT):\n",
    "    opti.subject_to(var_ddr[k] == sum(var_F[k]) / m + g)"
   ]
  },
  {
   "cell_type": "code",
   "execution_count": 15,
   "id": "91157de3-97d5-4c5b-8d0d-47c47e7bcdbc",
   "metadata": {},
   "outputs": [],
   "source": [
    "# 7b\n",
    "for k in range(1, nT):\n",
    "    opti.subject_to(var_dh[k] == m * (casadi.cross(var_c[k][0] - var_r[k], var_F[k][0])\n",
    "                                      + casadi.cross(var_c[k][0] - var_r[k], var_F[k][1])\n",
    "                                      + casadi.cross(var_c[k][0] - var_r[k], var_F[k][2])\n",
    "                                      + casadi.cross(var_c[k][0] - var_r[k], var_F[k][3])\n",
    "                                      + casadi.cross(var_c[k][0] - var_r[k], var_F[k][4])\n",
    "                                      + casadi.cross(var_c[k][0] - var_r[k], var_F[k][5])\n",
    "                                      + casadi.cross(var_c[k][0] - var_r[k], var_F[k][6])\n",
    "                                      + casadi.cross(var_c[k][0] - var_r[k], var_F[k][7])))"
   ]
  },
  {
   "cell_type": "code",
   "execution_count": 16,
   "id": "014cd740-1378-47e4-b7df-a5db553cd745",
   "metadata": {},
   "outputs": [],
   "source": [
    "# 7c\n",
    "for k in range(1, nT):\n",
    "    opti.subject_to(var_h[k] == h(var_q[k], var_v[k]))"
   ]
  },
  {
   "cell_type": "code",
   "execution_count": 17,
   "id": "1755d5be-b026-4c94-8f7a-b73e06db9074",
   "metadata": {},
   "outputs": [],
   "source": [
    "# 7d\n",
    "for k in range(1, nT):\n",
    "    opti.subject_to(var_q[k] == cnext(var_q[k-1], var_v[k], var_t[k]))"
   ]
  },
  {
   "cell_type": "code",
   "execution_count": 18,
   "id": "906e19c1-0ecf-4dba-9dc3-f3a13582c019",
   "metadata": {},
   "outputs": [],
   "source": [
    "# 7e\n",
    "for k in range(1, nT):\n",
    "    opti.subject_to(var_h[k] - var_h[k-1] == var_dh[k] * var_t[k])"
   ]
  },
  {
   "cell_type": "code",
   "execution_count": 19,
   "id": "8c7e674e-75a2-4da6-aee3-58f11dff3259",
   "metadata": {},
   "outputs": [],
   "source": [
    "# 7f\n",
    "for k in range(1, nT):\n",
    "    opti.subject_to(var_r[k] - var_r[k-1] == 0.5 *\n",
    "                    (var_dr[k] + var_dr[k-1])*var_t[k])\n",
    "# 7g\n",
    "for k in range(1, nT):\n",
    "    opti.subject_to(var_dr[k] - var_dr[k-1] == var_ddr[k] * var_t[k])"
   ]
  },
  {
   "cell_type": "markdown",
   "id": "96c44247-22f7-4b63-8976-258f5a47d055",
   "metadata": {},
   "source": [
    "#### contact sequence"
   ]
  },
  {
   "cell_type": "code",
   "execution_count": 20,
   "id": "53d9e595-7790-4e69-a307-3ba538ae387c",
   "metadata": {},
   "outputs": [
    {
     "name": "stdout",
     "output_type": "stream",
     "text": [
      "[[1. 1. 1. 1. 1. 1. 0. 0. 0. 0. 0. 0. 0. 1. 1. 1. 1.]\n",
      " [1. 1. 1. 1. 1. 1. 0. 0. 0. 0. 0. 0. 0. 1. 1. 1. 1.]\n",
      " [1. 1. 1. 1. 0. 0. 0. 0. 0. 0. 0. 1. 1. 1. 1. 1. 1.]\n",
      " [1. 1. 1. 1. 0. 0. 0. 0. 0. 0. 0. 1. 1. 1. 1. 1. 1.]\n",
      " [1. 1. 1. 1. 1. 1. 0. 0. 0. 0. 0. 0. 0. 1. 1. 1. 1.]\n",
      " [1. 1. 1. 1. 1. 1. 0. 0. 0. 0. 0. 0. 0. 1. 1. 1. 1.]\n",
      " [1. 1. 1. 1. 0. 0. 0. 0. 0. 0. 0. 1. 1. 1. 1. 1. 1.]\n",
      " [1. 1. 1. 1. 0. 0. 0. 0. 0. 0. 0. 1. 1. 1. 1. 1. 1.]]\n"
     ]
    }
   ],
   "source": [
    "def get_stance_schedule():\n",
    "    in_stance = np.zeros((len(contact_names), nT))\n",
    "    t = 0\n",
    "    for ci in range(8):\n",
    "        in_stance[ci, t:] = 1\n",
    "    t = 4\n",
    "    for ci in range(8):\n",
    "        if ci == 2 or ci == 3 or ci == 6 or ci == 7:\n",
    "            in_stance[ci, t:] = 0\n",
    "    t = 6\n",
    "    for ci in range(8):\n",
    "        in_stance[ci, t:] = 0\n",
    "    t = 11\n",
    "    for ci in range(8):\n",
    "        if ci == 2 or ci == 3 or ci == 6 or ci == 7:\n",
    "            in_stance[ci, t:] = 1\n",
    "    t = 13\n",
    "    for ci in range(8):\n",
    "        in_stance[ci, t:] = 1\n",
    "\n",
    "    return in_stance\n",
    "\n",
    "\n",
    "in_stance = get_stance_schedule()\n",
    "print(in_stance)"
   ]
  },
  {
   "cell_type": "code",
   "execution_count": 21,
   "id": "6dc205c7-d9c9-4eeb-b698-7b080c67005c",
   "metadata": {},
   "outputs": [],
   "source": [
    "# 7j\n",
    "for k in range(1, nT):\n",
    "    for ci in range(8):\n",
    "        if in_stance[ci, k]:\n",
    "            opti.subject_to(var_c[k][ci] == contacts_fk_list[ci](robot.q0))"
   ]
  },
  {
   "cell_type": "code",
   "execution_count": 22,
   "id": "033e3915-34bc-47fe-bc49-e276c17af287",
   "metadata": {},
   "outputs": [],
   "source": [
    "# 7k\n",
    "for k in range(1, nT):\n",
    "    opti.bounded(robot.model.lowerPositionLimit,\n",
    "                 var_q[k], robot.model.upperPositionLimit)\n",
    "    opti.bounded(-robot.model.velocityLimit,\n",
    "                 var_v[k], robot.model.velocityLimit)\n",
    "\n",
    "    # friction cone\n",
    "    mu = 1\n",
    "    for ci in range(8):\n",
    "        opti.bounded(0, var_F[k][ci][2], in_stance[ci][k]*norm(g))\n",
    "        opti.subject_to(-var_F[k][ci][0] <= mu*var_F[k][ci][2])\n",
    "        opti.subject_to(var_F[k][ci][0] <= mu*var_F[k][ci][2])\n",
    "        opti.subject_to(-var_F[k][ci][1] <= mu*var_F[k][ci][2])\n",
    "        opti.subject_to(var_F[k][ci][1] <= mu*var_F[k][ci][2])\n",
    "\n",
    "    # time duration\n",
    "    opti.bounded(0.01, var_t[k], 0.2)"
   ]
  },
  {
   "cell_type": "markdown",
   "id": "f3c12725-1c86-40e2-975b-762f5978da64",
   "metadata": {},
   "source": [
    "#### initial and terminal constraint"
   ]
  },
  {
   "cell_type": "code",
   "execution_count": 23,
   "id": "cdc86a61-fcac-4269-a20e-ac11771722cc",
   "metadata": {},
   "outputs": [],
   "source": [
    "opti.subject_to(var_q[0] == robot.q0)\n",
    "opti.subject_to(var_v[0] == np.zeros(robot.nv))\n",
    "opti.subject_to(var_q[-1] == robot.q0)\n",
    "opti.subject_to(var_v[-1] == np.zeros(robot.nv))"
   ]
  },
  {
   "cell_type": "markdown",
   "id": "878b9563-9f75-4b38-ae4c-9ddfd531f7bd",
   "metadata": {},
   "source": [
    "### add costs"
   ]
  },
  {
   "cell_type": "code",
   "execution_count": 24,
   "id": "0a2a6503-832c-4c93-b9e5-c0202067682d",
   "metadata": {},
   "outputs": [],
   "source": [
    "totalcost = 0\n",
    "for k in range(1, nT):\n",
    "    totalcost += casadi.sumsqr(var_dq[k]) * 1.0 * var_t[k]\n",
    "    totalcost += casadi.sumsqr(var_v[k]) * 0.1 * var_t[k]\n",
    "    totalcost += casadi.sumsqr(var_ddr[k]) * 1.0 * var_t[k]\n",
    "    for k in range(8):\n",
    "        totalcost += casadi.sumsqr(var_F[k][ci]) * 1.0e-4 * var_t[k]"
   ]
  },
  {
   "cell_type": "markdown",
   "id": "78f17873-313c-4f2d-8a00-5bf53907bcca",
   "metadata": {},
   "source": [
    "### set initial value and solve it"
   ]
  },
  {
   "cell_type": "code",
   "execution_count": 25,
   "id": "7d82ce29-8e4c-4bc0-9958-1383b4b7f532",
   "metadata": {},
   "outputs": [],
   "source": [
    "for k in range(1, nT):\n",
    "    opti.set_initial(var_t[k], 0.06)\n",
    "    opti.set_initial(var_dq[k], np.zeros(robot.nv))\n",
    "    opti.set_initial(var_v[k], np.zeros(robot.nv))"
   ]
  },
  {
   "cell_type": "code",
   "execution_count": 26,
   "id": "7fbfeb0d-407c-458e-8e14-4b8abf721a4c",
   "metadata": {},
   "outputs": [
    {
     "name": "stdout",
     "output_type": "stream",
     "text": [
      "\n",
      "******************************************************************************\n",
      "This program contains Ipopt, a library for large-scale nonlinear optimization.\n",
      " Ipopt is released as open source code under the Eclipse Public License (EPL).\n",
      "         For more information visit https://github.com/coin-or/Ipopt\n",
      "******************************************************************************\n",
      "\n",
      "This is Ipopt version 3.14.11, running with linear solver MUMPS 5.4.1.\n",
      "\n",
      "Number of nonzeros in equality constraint Jacobian...:    14488\n",
      "Number of nonzeros in inequality constraint Jacobian.:     1024\n",
      "Number of nonzeros in Lagrangian Hessian.............:    16987\n",
      "\n",
      "Total number of variables............................:     1163\n",
      "                     variables with only lower bounds:        0\n",
      "                variables with lower and upper bounds:        0\n",
      "                     variables with only upper bounds:        0\n",
      "Total number of equality constraints.................:      882\n",
      "Total number of inequality constraints...............:      512\n",
      "        inequality constraints with only lower bounds:        0\n",
      "   inequality constraints with lower and upper bounds:        0\n",
      "        inequality constraints with only upper bounds:      512\n",
      "\n",
      "iter    objective    inf_pr   inf_du lg(mu)  ||d||  lg(rg) alpha_du alpha_pr  ls\n",
      "   0  0.0000000e+00 9.81e+00 1.00e+00  -1.0 0.00e+00    -  0.00e+00 0.00e+00   0\n",
      "   1  3.9409475e+00 1.02e+01 1.91e+06  -1.0 1.23e+02  -2.0 6.74e-04 1.08e-02F  1\n",
      "   2 -9.2988562e+01 3.40e+00 1.89e+08  -1.0 9.66e+00   5.8 1.00e+00 1.00e+00f  1\n",
      "   3  3.2492001e+01 8.76e-01 8.27e+06  -1.0 2.04e+00   6.3 1.00e+00 1.00e+00h  1\n",
      "   4  4.3265472e+01 9.75e-02 4.27e+06  -1.0 5.71e-01   6.7 1.00e+00 1.00e+00h  1\n",
      "   5  4.3071512e+01 4.93e-02 2.45e+06  -1.0 1.93e-01   7.1 1.00e+00 1.00e+00h  1\n",
      "   6  4.0632513e+01 1.49e-01 4.81e+06  -1.0 1.03e+00   6.6 1.00e+00 1.00e+00f  1\n",
      "   7  3.8425559e+01 8.84e-02 1.81e+06  -1.0 1.26e-01   7.1 1.00e+00 1.00e+00f  1\n",
      "   8  3.7303555e+01 6.48e-02 4.81e+06  -1.0 1.54e-01   7.5 1.00e+00 1.00e+00h  1\n",
      "   9  3.4465558e+01 4.26e-02 3.87e+06  -1.0 3.68e-01   7.0 1.00e+00 1.00e+00f  1\n",
      "iter    objective    inf_pr   inf_du lg(mu)  ||d||  lg(rg) alpha_du alpha_pr  ls\n",
      "  10  3.3416721e+01 3.77e-02 2.82e+06  -1.0 1.01e-01   7.4 1.00e+00 1.00e+00h  1\n",
      "  11  3.1624880e+01 7.19e-02 3.55e+06  -1.0 4.00e-01   7.0 1.00e+00 1.00e+00f  1\n",
      "  12  3.1059909e+01 7.19e-02 2.88e+06  -1.0 1.16e-01   7.4 1.00e+00 1.00e+00h  1\n",
      "  13  3.0496082e+01 8.65e-02 4.02e+06  -1.0 5.16e-01   6.9 1.00e+00 1.00e+00h  1\n",
      "  14  3.0254487e+01 7.73e-02 3.06e+06  -1.0 1.40e-01   7.3 1.00e+00 1.00e+00h  1\n",
      "  15  3.0207934e+01 8.77e-02 5.14e+06  -1.0 4.31e-01   6.9 1.00e+00 1.00e+00h  1\n",
      "  16  3.0176450e+01 7.53e-02 2.93e+06  -1.0 1.50e-01   7.3 1.00e+00 1.00e+00h  1\n",
      "  17  3.0806912e+01 3.78e-02 5.60e+06  -1.0 4.11e-01   6.8 1.00e+00 1.00e+00H  1\n",
      "  18  3.1127827e+01 3.82e-02 2.49e+06  -1.0 1.44e-01   7.2 1.00e+00 1.00e+00h  1\n",
      "  19  3.2131592e+01 4.05e-02 2.62e+06  -1.0 4.55e-01   6.8 1.00e+00 1.00e+00h  1\n",
      "iter    objective    inf_pr   inf_du lg(mu)  ||d||  lg(rg) alpha_du alpha_pr  ls\n",
      "  20r 3.2131592e+01 4.05e-02 9.98e+02  -1.0 0.00e+00   6.3 0.00e+00 4.77e-07R 22\n",
      "  21r 2.9551706e+01 2.92e-02 9.81e+02  -1.0 1.73e+02    -  7.59e-02 4.12e-03f  1\n",
      "  22  2.9443204e+01 2.39e-02 2.30e+05  -1.0 9.20e-02   5.8 1.00e+00 1.00e+00h  1\n",
      "  23  3.2720162e+01 7.52e-03 1.41e+05  -1.0 2.13e-01   5.3 1.00e+00 1.00e+00H  1\n",
      "  24  3.2715039e+01 4.05e-03 8.39e+04  -1.0 6.08e-01   4.9 1.00e+00 1.00e+00H  1\n",
      "  25  3.2493776e+01 4.84e-02 3.88e+04  -1.0 5.60e-01   4.4 1.00e+00 1.00e+00H  1\n",
      "  26  3.1990875e+01 7.19e-03 3.48e+03  -1.0 1.94e-01   3.9 1.00e+00 1.00e+00h  1\n",
      "  27  3.1903183e+01 1.38e-03 1.24e+03  -1.0 5.81e-02   4.3 1.00e+00 1.00e+00h  1\n",
      "  28  3.2010067e+01 1.23e-03 6.57e+02  -1.0 1.24e-01   3.9 1.00e+00 1.00e+00H  1\n",
      "  29  3.2031384e+01 5.42e-03 1.92e+02  -1.0 8.36e-02   3.4 1.00e+00 1.00e+00H  1\n",
      "iter    objective    inf_pr   inf_du lg(mu)  ||d||  lg(rg) alpha_du alpha_pr  ls\n",
      "  30  3.1932139e+01 1.57e-03 9.06e+01  -1.0 4.36e-02   2.9 1.00e+00 1.00e+00f  1\n",
      "  31  3.1913404e+01 3.08e-03 1.10e+02  -1.0 7.45e-02   2.4 1.00e+00 1.00e+00f  1\n",
      "  32  3.1876546e+01 2.43e-04 8.98e+00  -1.0 1.26e-02   2.8 1.00e+00 1.00e+00f  1\n",
      "  33  3.1771648e+01 1.36e-04 4.03e+00  -1.7 1.57e-02   2.4 1.00e+00 1.00e+00f  1\n",
      "  34  3.1728473e+01 7.78e-06 1.96e+00  -2.5 3.14e-03   2.8 1.00e+00 1.00e+00h  1\n",
      "  35  3.1603292e+01 1.50e-05 2.49e+00  -2.5 6.39e-03   2.3 1.00e+00 1.00e+00f  1\n",
      "  36  3.1556972e+01 2.31e-06 1.31e+00  -2.5 2.36e-03   2.7 1.00e+00 1.00e+00f  1\n",
      "  37  3.1417676e+01 1.76e-05 3.70e+00  -2.5 7.10e-03   2.3 1.00e+00 1.00e+00f  1\n",
      "  38  3.1365402e+01 2.34e-06 1.31e+00  -2.5 2.66e-03   2.7 1.00e+00 1.00e+00f  1\n",
      "  39  3.1208454e+01 2.11e-05 5.48e+00  -2.5 8.00e-03   2.2 1.00e+00 1.00e+00f  1\n",
      "iter    objective    inf_pr   inf_du lg(mu)  ||d||  lg(rg) alpha_du alpha_pr  ls\n",
      "  40  3.1149674e+01 2.92e-06 1.31e+00  -2.5 3.00e-03   2.6 1.00e+00 1.00e+00f  1\n",
      "  41  3.0972997e+01 2.64e-05 9.19e+00  -2.5 9.01e-03   2.2 1.00e+00 1.00e+00f  1\n",
      "  42  3.0906892e+01 3.66e-06 1.31e+00  -2.5 3.37e-03   2.6 1.00e+00 1.00e+00f  1\n",
      "  43  3.0707635e+01 3.31e-05 1.81e+01  -2.5 1.02e-02   2.1 1.00e+00 1.00e+00f  1\n",
      "  44  3.0633242e+01 4.57e-06 1.31e+00  -2.5 3.80e-03   2.5 1.00e+00 1.00e+00f  1\n",
      "  45  3.0406156e+01 4.18e-05 5.90e+01  -2.5 1.88e-02   2.1 1.00e+00 1.00e+00f  1\n",
      "  46  3.0322115e+01 5.77e-06 1.50e+00  -2.5 4.31e-03   2.5 1.00e+00 1.00e+00f  1\n",
      "  47  3.0290865e+01 8.05e-07 1.30e+00  -2.5 1.59e-03   2.9 1.00e+00 1.00e+00f  1\n",
      "  48  3.0197173e+01 7.16e-06 1.53e+00  -2.5 4.78e-03   2.4 1.00e+00 1.00e+00f  1\n",
      "  49  3.0162029e+01 9.96e-07 1.30e+00  -2.5 1.79e-03   2.9 1.00e+00 1.00e+00f  1\n",
      "iter    objective    inf_pr   inf_du lg(mu)  ||d||  lg(rg) alpha_du alpha_pr  ls\n",
      "  50  3.0056620e+01 8.99e-06 2.17e+00  -2.5 5.38e-03   2.4 1.00e+00 1.00e+00f  1\n",
      "  51  3.0017102e+01 1.25e-06 1.30e+00  -2.5 2.01e-03   2.8 1.00e+00 1.00e+00f  1\n",
      "  52  2.9898513e+01 1.13e-05 3.13e+00  -2.5 6.05e-03   2.3 1.00e+00 1.00e+00f  1\n",
      "  53  2.9854072e+01 1.57e-06 1.30e+00  -2.5 2.27e-03   2.8 1.00e+00 1.00e+00f  1\n",
      "  54  2.9720611e+01 1.42e-05 4.71e+00  -2.5 6.81e-03   2.3 1.00e+00 1.00e+00f  1\n",
      "  55  2.9670630e+01 1.96e-06 1.30e+00  -2.5 2.55e-03   2.7 1.00e+00 1.00e+00f  1\n",
      "  56  2.9520339e+01 1.78e-05 7.55e+00  -2.5 7.67e-03   2.2 1.00e+00 1.00e+00f  1\n",
      "  57  2.9464119e+01 2.46e-06 1.30e+00  -2.5 2.87e-03   2.7 1.00e+00 1.00e+00f  1\n",
      "  58  2.9294586e+01 2.24e-05 1.37e+01  -2.5 8.66e-03   2.2 1.00e+00 1.00e+00f  1\n",
      "  59  2.9231314e+01 3.07e-06 1.30e+00  -2.5 3.23e-03   2.6 1.00e+00 1.00e+00f  1\n",
      "iter    objective    inf_pr   inf_du lg(mu)  ||d||  lg(rg) alpha_du alpha_pr  ls\n",
      "  60  2.9038731e+01 2.84e-05 3.35e+01  -2.5 1.22e-02   2.1 1.00e+00 1.00e+00f  1\n",
      "  61  2.8967350e+01 3.85e-06 1.31e+00  -2.5 3.65e-03   2.6 1.00e+00 1.00e+00f  1\n",
      "  62  2.8641579e+01 1.85e-04 2.25e+03  -2.5 3.50e-01   2.1 1.00e+00 1.00e+00f  1\n",
      "  63  2.8543089e+01 7.93e-06 7.00e+00  -2.5 5.59e-03   2.5 1.00e+00 1.00e+00f  1\n",
      "  64  2.8513110e+01 9.08e-07 1.32e+00  -2.5 1.56e-03   2.9 1.00e+00 1.00e+00f  1\n",
      "  65  2.8423178e+01 6.45e-06 2.75e+00  -2.5 4.59e-03   2.5 1.00e+00 1.00e+00f  1\n",
      "  66  2.8389402e+01 8.85e-07 1.30e+00  -2.5 1.72e-03   2.9 1.00e+00 1.00e+00f  1\n",
      "  67  2.8287272e+01 7.78e-06 4.44e+00  -2.5 5.22e-03   2.4 1.00e+00 1.00e+00f  1\n",
      "  68  2.8249343e+01 1.05e-06 1.30e+00  -2.5 1.94e-03   2.8 1.00e+00 1.00e+00f  1\n",
      "  69  2.8134187e+01 9.68e-06 6.07e+00  -2.5 5.88e-03   2.4 1.00e+00 1.00e+00f  1\n",
      "iter    objective    inf_pr   inf_du lg(mu)  ||d||  lg(rg) alpha_du alpha_pr  ls\n",
      "  70  2.8091507e+01 1.33e-06 1.30e+00  -2.5 2.18e-03   2.8 1.00e+00 1.00e+00f  1\n",
      "  71  2.7961051e+01 1.23e-05 8.53e+00  -2.5 6.67e-03   2.3 1.00e+00 1.00e+00f  1\n",
      "  72  2.7912972e+01 1.66e-06 1.30e+00  -2.5 2.46e-03   2.7 1.00e+00 1.00e+00f  1\n",
      "  73  2.7764438e+01 1.56e-05 1.20e+01  -2.5 7.60e-03   2.2 1.00e+00 1.00e+00f  1\n",
      "  74  2.7710246e+01 2.08e-06 1.31e+00  -2.5 2.77e-03   2.7 1.00e+00 1.00e+00f  1\n",
      "  75  2.7539036e+01 2.00e-05 1.55e+01  -2.5 1.36e-02   2.2 1.00e+00 1.00e+00f  1\n",
      "  76  2.7477832e+01 2.60e-06 1.42e+00  -2.5 3.14e-03   2.6 1.00e+00 1.00e+00f  1\n",
      "  77  2.7272128e+01 2.68e-05 4.28e+00  -2.5 3.08e-02   2.1 1.00e+00 1.00e+00f  1\n",
      "  78  2.7202609e+01 3.31e-06 1.88e+00  -2.5 3.59e-03   2.6 1.00e+00 1.00e+00f  1\n",
      "  79  2.6870831e+01 7.05e-05 1.27e+03  -2.5 1.47e-01   2.1 1.00e+00 1.00e+00f  1\n",
      "iter    objective    inf_pr   inf_du lg(mu)  ||d||  lg(rg) alpha_du alpha_pr  ls\n",
      "  80  2.6790176e+01 4.77e-06 1.45e+00  -2.5 4.37e-03   2.5 1.00e+00 1.00e+00f  1\n",
      "  81  2.6391629e+01 6.69e-05 2.02e+03  -2.5 1.58e-01   2.0 1.00e+00 1.00e+00f  1\n",
      "  82  2.6302977e+01 5.53e-06 2.64e+00  -2.5 4.77e-03   2.5 1.00e+00 1.00e+00f  1\n",
      "  83  2.5933339e+01 6.37e-05 6.91e+02  -2.5 8.68e-02   2.0 1.00e+00 1.00e+00f  1\n",
      "  84  2.5834036e+01 6.13e-06 1.49e+00  -2.5 5.18e-03   2.4 1.00e+00 1.00e+00f  1\n",
      "  85  2.5392199e+01 8.43e-05 1.14e+03  -2.5 1.05e-01   1.9 1.00e+00 1.00e+00f  1\n",
      "  86  2.5281453e+01 7.39e-06 1.34e+00  -2.5 5.78e-03   2.4 1.00e+00 1.00e+00f  1\n",
      "  87  2.4804303e+01 9.83e-05 9.50e+02  -2.5 9.25e-02   1.9 1.00e+00 1.00e+00f  1\n",
      "  88  2.4680001e+01 8.83e-06 1.66e+00  -2.5 6.44e-03   2.3 1.00e+00 1.00e+00f  1\n",
      "  89  2.4152280e+01 1.18e-04 9.17e+02  -2.5 8.82e-02   1.8 1.00e+00 1.00e+00f  1\n",
      "iter    objective    inf_pr   inf_du lg(mu)  ||d||  lg(rg) alpha_du alpha_pr  ls\n",
      "  90  2.4012796e+01 1.06e-05 2.29e+00  -2.5 7.20e-03   2.3 1.00e+00 1.00e+00f  1\n",
      "  91  2.3427346e+01 1.41e-04 8.94e+02  -2.5 8.49e-02   1.8 1.00e+00 1.00e+00f  1\n",
      "  92  2.3270672e+01 1.27e-05 3.37e+00  -2.5 8.21e-03   2.2 1.00e+00 1.00e+00f  1\n",
      "  93  2.2616946e+01 1.68e-04 8.85e+02  -2.5 8.23e-02   1.7 1.00e+00 1.00e+00f  1\n",
      "  94  2.2440702e+01 1.50e-05 5.10e+00  -2.5 9.57e-03   2.2 1.00e+00 1.00e+00f  1\n",
      "  95  2.1698185e+01 2.03e-04 9.07e+02  -2.5 8.10e-02   1.7 1.00e+00 1.00e+00f  1\n",
      "  96  2.1499072e+01 1.74e-05 7.89e+00  -2.5 1.12e-02   2.1 1.00e+00 1.00e+00f  1\n",
      "  97  2.0585173e+01 2.71e-04 1.08e+03  -2.5 1.07e-01   1.6 1.00e+00 1.00e+00f  1\n",
      "  98  2.0357084e+01 1.91e-05 8.05e+00  -2.5 1.36e-02   2.1 1.00e+00 1.00e+00f  1\n",
      "  99  2.0277067e+01 2.72e-06 1.41e+00  -2.5 4.61e-03   2.5 1.00e+00 1.00e+00f  1\n",
      "iter    objective    inf_pr   inf_du lg(mu)  ||d||  lg(rg) alpha_du alpha_pr  ls\n",
      " 100  2.0021670e+01 2.74e-05 1.08e+01  -2.5 1.47e-02   2.0 1.00e+00 1.00e+00f  1\n",
      " 101  1.9931314e+01 3.57e-06 1.44e+00  -2.5 5.30e-03   2.4 1.00e+00 1.00e+00f  1\n",
      " 102  1.9638816e+01 3.51e-05 1.41e+01  -2.5 1.71e-02   2.0 1.00e+00 1.00e+00f  1\n",
      " 103  1.9536987e+01 4.32e-06 1.53e+00  -2.5 6.07e-03   2.4 1.00e+00 1.00e+00f  1\n",
      " 104  1.9200489e+01 4.35e-05 1.76e+01  -2.5 1.99e-02   1.9 1.00e+00 1.00e+00f  1\n",
      " 105  1.9085628e+01 5.22e-06 1.90e+00  -2.5 6.97e-03   2.3 1.00e+00 1.00e+00f  1\n",
      " 106  1.8693721e+01 5.67e-05 2.95e+01  -2.5 2.36e-02   1.9 1.00e+00 1.00e+00f  1\n",
      " 107  1.8563745e+01 6.42e-06 2.66e+00  -2.5 8.07e-03   2.3 1.00e+00 1.00e+00f  1\n",
      " 108  1.8094299e+01 7.73e-05 6.08e+01  -2.5 2.88e-02   1.8 1.00e+00 1.00e+00f  1\n",
      " 109  1.7946173e+01 7.99e-06 3.59e+00  -2.5 9.46e-03   2.2 1.00e+00 1.00e+00f  1\n",
      "iter    objective    inf_pr   inf_du lg(mu)  ||d||  lg(rg) alpha_du alpha_pr  ls\n",
      " 110  1.7300756e+01 1.30e-04 6.26e+02  -2.5 7.58e-02   1.8 1.00e+00 1.00e+00f  1\n",
      " 111  1.7123345e+01 1.02e-05 1.88e+01  -2.5 1.17e-02   2.2 1.00e+00 1.00e+00f  1\n",
      " 112  1.7064052e+01 1.81e-06 1.56e+00  -2.5 3.87e-03   2.6 1.00e+00 1.00e+00f  1\n",
      " 113  1.6873015e+01 1.70e-05 7.96e+00  -2.5 1.25e-02   2.1 1.00e+00 1.00e+00f  1\n",
      " 114  1.6806179e+01 2.08e-06 1.59e+00  -2.5 4.45e-03   2.6 1.00e+00 1.00e+00f  1\n",
      " 115  1.6588784e+01 2.05e-05 1.10e+01  -2.5 1.43e-02   2.1 1.00e+00 1.00e+00f  1\n",
      " 116  1.6514166e+01 2.18e-06 1.58e+00  -2.5 4.97e-03   2.5 1.00e+00 1.00e+00f  1\n",
      " 117  1.6266579e+01 2.30e-05 1.85e+01  -2.5 1.63e-02   2.0 1.00e+00 1.00e+00f  1\n",
      " 118  1.6182925e+01 2.38e-06 1.60e+00  -2.5 5.58e-03   2.5 1.00e+00 1.00e+00f  1\n",
      " 119  1.5897862e+01 2.94e-05 3.52e+01  -2.5 1.90e-02   2.0 1.00e+00 1.00e+00f  1\n",
      "iter    objective    inf_pr   inf_du lg(mu)  ||d||  lg(rg) alpha_du alpha_pr  ls\n",
      " 120  1.5803310e+01 2.96e-06 2.74e+00  -2.5 6.36e-03   2.4 1.00e+00 1.00e+00f  1\n",
      " 121  1.5467320e+01 4.29e-05 7.80e+01  -2.5 2.28e-02   1.9 1.00e+00 1.00e+00f  1\n",
      " 122  1.5359522e+01 3.36e-06 4.68e+00  -2.5 7.28e-03   2.3 1.00e+00 1.00e+00f  1\n",
      " 123  1.4763812e+01 1.14e-03 1.13e+03  -2.5 2.14e-01   1.9 1.00e+00 1.00e+00f  1\n",
      " 124  1.4628040e+01 1.41e-05 2.62e+00  -2.5 1.15e-02   2.3 1.00e+00 1.00e+00f  1\n",
      " 125  1.4110348e+01 9.56e-05 1.57e+02  -2.5 4.11e-02   1.8 1.00e+00 1.00e+00f  1\n",
      " 126  1.3968585e+01 6.15e-06 5.62e+00  -2.5 9.92e-03   2.2 1.00e+00 1.00e+00f  1\n",
      " 127  1.3272143e+01 1.80e-04 5.01e+02  -2.5 6.36e-02   1.8 1.00e+00 1.00e+00f  1\n",
      " 128  1.3107860e+01 6.53e-06 1.04e+01  -2.5 1.12e-02   2.2 1.00e+00 1.00e+00f  1\n",
      " 129  1.1900563e+01 4.52e-04 4.67e+03  -2.5 2.24e-01   1.7 1.00e+00 1.00e+00f  1\n",
      "iter    objective    inf_pr   inf_du lg(mu)  ||d||  lg(rg) alpha_du alpha_pr  ls\n",
      " 130  1.1728388e+01 7.67e-06 2.51e+01  -2.5 9.37e-03   2.1 1.00e+00 1.00e+00f  1\n",
      " 131  1.0771425e+01 2.70e-04 2.74e+02  -2.5 7.14e-02   1.7 1.00e+00 1.00e+00f  1\n",
      " 132  1.0550817e+01 1.41e-05 1.39e+01  -2.5 1.67e-02   2.1 1.00e+00 1.00e+00f  1\n",
      " 133  9.3294554e+00 2.95e-04 3.73e+02  -2.5 7.95e-02   1.6 1.00e+00 1.00e+00f  1\n",
      " 134  9.0784156e+00 1.35e-05 4.63e+01  -2.5 1.68e-02   2.0 1.00e+00 1.00e+00f  1\n",
      " 135  4.7528533e+00 4.59e-03 6.08e+03  -2.5 6.26e-01   1.6 1.00e+00 1.00e+00f  1\n",
      " 136 -5.5305064e-01 1.47e-01 2.89e+05  -2.5 3.87e+00   2.0 1.00e+00 1.00e+00f  1\n",
      " 137 -4.0944213e+00 7.15e-02 1.09e+05  -2.5 1.54e+00   3.3 1.00e+00 1.00e+00f  1\n",
      " 138 -3.0132791e+00 1.88e-03 1.38e+04  -2.5 1.05e-01   4.6 1.00e+00 1.00e+00h  1\n",
      " 139 -2.6552897e+00 5.50e-04 5.40e+03  -2.5 3.19e-02   5.1 1.00e+00 1.00e+00h  1\n",
      "iter    objective    inf_pr   inf_du lg(mu)  ||d||  lg(rg) alpha_du alpha_pr  ls\n",
      " 140 -2.4963643e+00 4.42e-04 4.06e+03  -2.5 1.29e-02   5.5 1.00e+00 1.00e+00h  1\n",
      " 141 -2.0807288e+00 2.66e-04 3.32e+03  -2.5 3.18e-02   5.0 1.00e+00 1.00e+00h  1\n",
      " 142 -1.9426447e+00 2.54e-04 3.04e+03  -2.5 1.08e-02   5.5 1.00e+00 1.00e+00h  1\n",
      " 143 -1.7102813e+00 2.09e-04 1.32e+04  -2.5 1.39e-01   5.0 1.00e+00 1.00e+00H  1\n",
      " 144 -1.6408440e+00 1.77e-04 3.59e+03  -2.5 1.43e-02   5.4 1.00e+00 1.00e+00h  1\n",
      " 145 -1.4641938e+00 1.43e-04 3.24e+03  -2.5 6.36e-02   4.9 1.00e+00 1.00e+00H  1\n",
      " 146 -1.4110422e+00 1.30e-04 1.58e+03  -2.5 7.10e-03   5.3 1.00e+00 1.00e+00h  1\n",
      " 147 -1.3702850e+00 7.40e-05 1.89e+03  -2.5 1.68e-02   4.9 1.00e+00 1.00e+00H  1\n",
      " 148 -1.3628462e+00 6.36e-05 1.39e+03  -2.5 6.97e-03   5.3 1.00e+00 1.00e+00h  1\n",
      " 149 -1.3838254e+00 8.04e-05 1.31e+03  -2.5 2.45e-02   4.8 1.00e+00 1.00e+00H  1\n",
      "iter    objective    inf_pr   inf_du lg(mu)  ||d||  lg(rg) alpha_du alpha_pr  ls\n",
      " 150 -1.4175636e+00 1.03e-04 1.50e+03  -2.5 2.07e-01   4.3 1.00e+00 6.25e-02f  5\n",
      " 151 -1.4794666e+00 1.69e-04 1.34e+03  -2.5 2.29e-02   4.8 1.00e+00 1.00e+00h  1\n",
      " 152 -2.0417595e+00 4.56e-04 7.88e+03  -2.5 7.55e-02   4.3 1.00e+00 1.00e+00f  1\n",
      " 153 -2.2766706e+00 3.51e-04 2.51e+03  -2.5 2.84e-02   4.7 1.00e+00 1.00e+00f  1\n",
      " 154 -3.4212812e+00 4.66e-02 7.71e+05  -2.5 7.66e-01   4.2 1.00e+00 1.00e+00f  1\n",
      " 155 -3.1901269e+00 2.51e-02 3.85e+05  -2.5 2.62e-01   5.6 1.00e+00 5.00e-01h  2\n",
      " 156 -4.3512803e+00 2.52e-01 8.25e+06  -2.5 1.76e+00   5.1 1.00e+00 1.00e+00f  1\n",
      " 157 -5.2565065e+00 1.44e-01 2.11e+06  -2.5 9.99e-01   5.5 1.00e+00 1.00e+00h  1\n",
      " 158 -4.2217079e+00 1.31e-02 1.03e+06  -2.5 3.73e-01   5.9 1.00e+00 1.00e+00h  1\n",
      " 159 -3.6661541e+00 7.19e-03 3.19e+05  -2.5 9.83e-02   6.4 1.00e+00 1.00e+00h  1\n",
      "iter    objective    inf_pr   inf_du lg(mu)  ||d||  lg(rg) alpha_du alpha_pr  ls\n",
      " 160 -3.1236816e+00 4.54e-03 1.86e+05  -2.5 1.63e-01   5.9 1.00e+00 5.00e-01h  2\n",
      " 161 -3.0655721e+00 4.25e-03 1.63e+05  -2.5 6.32e-02   6.3 1.00e+00 1.25e-01h  4\n",
      " 162 -3.0361543e+00 4.14e-03 1.59e+05  -2.5 2.15e-01   5.8 1.00e+00 3.12e-02h  6\n",
      " 163 -3.0204480e+00 4.07e-03 1.58e+05  -2.5 6.76e-02   6.3 1.00e+00 3.12e-02h  6\n",
      " 164 -3.0421415e+00 3.88e-03 1.69e+05  -2.5 7.44e-01   5.8 1.00e+00 6.25e-02h  5\n",
      " 165 -2.5734886e+00 2.13e-03 1.50e+05  -2.5 9.29e-02   6.2 1.00e+00 1.00e+00h  1\n",
      " 166 -2.4207820e+00 1.98e-03 1.44e+05  -2.5 3.29e-02   6.6 1.00e+00 1.00e+00h  1\n",
      " 167 -1.9783180e+00 1.45e-03 1.47e+05  -2.5 1.00e-01   6.2 1.00e+00 1.00e+00h  1\n",
      " 168 -1.8234737e+00 1.29e-03 1.44e+05  -2.5 3.70e-02   6.6 1.00e+00 1.00e+00h  1\n",
      " 169 -1.5741610e+00 1.99e-03 1.72e+05  -2.5 1.47e-01   6.1 1.00e+00 1.00e+00H  1\n",
      "iter    objective    inf_pr   inf_du lg(mu)  ||d||  lg(rg) alpha_du alpha_pr  ls\n",
      " 170 -1.4881599e+00 2.13e-03 1.10e+05  -2.5 3.16e-02   6.5 1.00e+00 1.00e+00h  1\n",
      " 171 -1.3234826e+00 1.96e-03 1.33e+05  -2.5 8.80e-02   6.1 1.00e+00 1.00e+00H  1\n",
      " 172 -1.2439081e+00 1.94e-03 5.76e+04  -2.5 1.85e-02   6.5 1.00e+00 1.00e+00h  1\n",
      " 173 -6.9600649e-01 1.18e-03 7.25e+04  -2.5 7.08e-02   6.0 1.00e+00 1.00e+00h  1\n",
      " 174 -4.8583866e-01 1.05e-03 7.56e+04  -2.5 2.78e-02   6.4 1.00e+00 1.00e+00h  1\n",
      " 175 -4.6042583e-01 1.21e-03 2.97e+04  -2.5 1.23e-01   6.0 1.00e+00 1.00e+00H  1\n",
      " 176r-4.6042583e-01 1.21e-03 9.98e+02  -2.5 0.00e+00   5.5 0.00e+00 4.77e-07R 22\n",
      " 177r-2.7171141e-01 9.78e-04 9.88e+02  -2.5 4.25e+01    -  1.48e-01 5.25e-03f  1\n",
      " 178 -3.1362533e-01 3.09e-04 1.42e+03  -2.5 1.29e-02   5.0 1.00e+00 1.00e+00h  1\n",
      " 179 -2.0381250e-01 1.09e-04 9.09e+02  -2.5 2.68e-02   4.5 1.00e+00 1.00e+00h  1\n",
      "iter    objective    inf_pr   inf_du lg(mu)  ||d||  lg(rg) alpha_du alpha_pr  ls\n",
      " 180  1.1973504e-01 6.68e-05 1.87e+03  -2.5 2.74e-02   4.1 1.00e+00 1.00e+00H  1\n",
      " 181  2.4045773e-02 1.25e-05 1.81e+02  -2.5 2.40e-03   3.6 1.00e+00 1.00e+00H  1\n",
      " 182 -1.7070745e-02 8.76e-06 7.57e+00  -2.5 2.61e-03   3.1 1.00e+00 1.00e+00f  1\n",
      " 183 -2.8936175e-03 1.50e-06 4.51e-01  -2.5 9.18e-04   2.6 1.00e+00 1.00e+00h  1\n",
      " 184  2.7268301e-04 1.40e-07 3.18e-02  -2.5 2.28e-04   2.1 1.00e+00 1.00e+00h  1\n",
      " 185  2.4387126e-05 1.32e-08 3.16e-02  -2.5 6.81e-04   1.7 1.00e+00 1.00e+00f  1\n",
      " 186 -5.5888852e-07 2.52e-09 3.10e-02  -2.5 2.00e-03   1.2 1.00e+00 1.00e+00f  1\n",
      " 187 -1.6012120e-08 2.23e-11 3.08e-02  -2.5 7.46e-04   1.6 1.00e+00 1.00e+00f  1\n",
      " 188  2.5346760e-08 1.52e-11 3.01e-02  -2.5 2.19e-03   1.1 1.00e+00 1.00e+00f  1\n",
      " 189  8.7412251e-09 5.14e-12 2.99e-02  -2.5 8.16e-04   1.6 1.00e+00 1.00e+00f  1\n",
      "iter    objective    inf_pr   inf_du lg(mu)  ||d||  lg(rg) alpha_du alpha_pr  ls\n",
      " 190  2.6838771e-08 1.61e-11 2.93e-02  -2.5 2.39e-03   1.1 1.00e+00 1.00e+00f  1\n",
      " 191  9.6783601e-09 5.67e-12 2.90e-02  -2.5 8.91e-04   1.5 1.00e+00 1.00e+00f  1\n",
      " 192  3.0150613e-08 1.81e-11 2.84e-02  -2.5 2.61e-03   1.0 1.00e+00 1.00e+00f  1\n",
      " 193  1.0742519e-08 6.26e-12 2.81e-02  -2.5 9.71e-04   1.5 1.00e+00 1.00e+00f  1\n",
      " 194 -3.7150697e-08 1.37e-10 1.46e-03  -3.8 1.51e-04   1.0 1.00e+00 1.00e+00f  1\n",
      " 195 -7.1427949e-10 2.53e-12 1.83e-05  -5.7 5.67e-06   0.5 1.00e+00 1.00e+00h  1\n",
      " 196 -1.4796036e-12 7.27e-15 2.49e-08  -8.6 2.32e-08   0.0 1.00e+00 1.00e+00h  1\n",
      " 197 -4.1602964e-14 2.20e-14 9.03e-09  -9.0 2.52e-08  -0.4 1.00e+00 1.00e+00h  1\n",
      "\n",
      "Number of Iterations....: 197\n",
      "\n",
      "                                   (scaled)                 (unscaled)\n",
      "Objective...............:  -4.1602964030423939e-14   -4.1602964030423939e-14\n",
      "Dual infeasibility......:   9.0311131498156583e-09    9.0311131498156583e-09\n",
      "Constraint violation....:   2.2020613986313431e-14    2.2020613986313431e-14\n",
      "Variable bound violation:   0.0000000000000000e+00    0.0000000000000000e+00\n",
      "Complementarity.........:   9.0909083026020371e-10    9.0909083026020371e-10\n",
      "Overall NLP error.......:   9.0311131498156583e-09    9.0311131498156583e-09\n",
      "\n",
      "\n",
      "Number of objective function evaluations             = 298\n",
      "Number of objective gradient evaluations             = 198\n",
      "Number of equality constraint evaluations            = 298\n",
      "Number of inequality constraint evaluations          = 298\n",
      "Number of equality constraint Jacobian evaluations   = 200\n",
      "Number of inequality constraint Jacobian evaluations = 200\n",
      "Number of Lagrangian Hessian evaluations             = 197\n",
      "Total seconds in IPOPT                               = 4.328\n",
      "\n",
      "EXIT: Optimal Solution Found.\n",
      "      solver  :   t_proc      (avg)   t_wall      (avg)    n_eval\n",
      "       nlp_f  |   1.63ms (  5.46us)   1.63ms (  5.48us)       298\n",
      "       nlp_g  |  67.21ms (225.54us)  66.62ms (223.56us)       298\n",
      "  nlp_grad_f  |   2.48ms ( 12.46us)   2.47ms ( 12.42us)       199\n",
      "  nlp_hess_l  |   1.77 s (  9.06ms)   1.77 s (  9.06ms)       195\n",
      "   nlp_jac_g  | 547.08ms (  2.72ms) 547.38ms (  2.72ms)       201\n",
      "       total  |   4.33 s (  4.33 s)   4.33 s (  4.33 s)         1\n"
     ]
    }
   ],
   "source": [
    "opti.minimize(totalcost)\n",
    "opti.solver(\"ipopt\", {\"expand\": True}, {\"max_iter\": 10000})\n",
    "try:\n",
    "    sol = opti.solve_limited()\n",
    "except:\n",
    "    print(\"ERROR in convergence, plotting debug info.\")"
   ]
  },
  {
   "cell_type": "code",
   "execution_count": 27,
   "id": "91bf5719-96af-4ae7-9177-02793bbc734d",
   "metadata": {},
   "outputs": [],
   "source": [
    "sol_q = [pin.integrate(model, robot.q0, opti.value(dq)) for dq in var_dq]"
   ]
  },
  {
   "cell_type": "code",
   "execution_count": 28,
   "id": "66c0798e-fe03-43d4-8a04-8ea479916bfa",
   "metadata": {},
   "outputs": [],
   "source": [
    "def displayScene(q, dt=1e-1):\n",
    "    pin.framesForwardKinematics(model, data, q)\n",
    "    viz.display(q)\n",
    "    time.sleep(dt)\n",
    "\n",
    "\n",
    "def displayTraj(qs, dt=1e-2):\n",
    "    for q in qs[1:]:\n",
    "        displayScene(q, dt=dt)"
   ]
  },
  {
   "cell_type": "code",
   "execution_count": 29,
   "id": "c9b9fde8-c662-4831-b183-669b289c7b44",
   "metadata": {},
   "outputs": [
    {
     "data": {
      "text/html": [
       "\n",
       "            <div style=\"height: 400px; width: 100%; overflow-x: auto; overflow-y: hidden; resize: both\">\n",
       "            <iframe src=\"http://127.0.0.1:7001/static/\" style=\"width: 100%; height: 100%; border: none\"></iframe>\n",
       "            </div>\n",
       "            "
      ],
      "text/plain": [
       "<IPython.core.display.HTML object>"
      ]
     },
     "execution_count": 29,
     "metadata": {},
     "output_type": "execute_result"
    }
   ],
   "source": [
    "viz.viewer.jupyter_cell()"
   ]
  },
  {
   "cell_type": "code",
   "execution_count": 30,
   "id": "2f47e857-fee0-4fac-a82e-ac0c1b2c9999",
   "metadata": {
    "scrolled": true
   },
   "outputs": [
    {
     "name": "stdout",
     "output_type": "stream",
     "text": [
      "***** Display the resulting trajectory ...\n"
     ]
    }
   ],
   "source": [
    "print(\"***** Display the resulting trajectory ...\")\n",
    "displayScene(robot.q0, 1)\n",
    "displayTraj(sol_q, 0.1)"
   ]
  }
 ],
 "metadata": {
  "kernelspec": {
   "display_name": "myenv",
   "language": "python",
   "name": "myenv"
  },
  "language_info": {
   "codemirror_mode": {
    "name": "ipython",
    "version": 3
   },
   "file_extension": ".py",
   "mimetype": "text/x-python",
   "name": "python",
   "nbconvert_exporter": "python",
   "pygments_lexer": "ipython3",
   "version": "3.11.2"
  },
  "widgets": {
   "application/vnd.jupyter.widget-state+json": {
    "state": {},
    "version_major": 2,
    "version_minor": 0
   }
  }
 },
 "nbformat": 4,
 "nbformat_minor": 5
}
