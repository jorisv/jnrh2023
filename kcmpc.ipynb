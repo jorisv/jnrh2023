{
 "cells": [
  {
   "cell_type": "code",
   "execution_count": 1,
   "id": "5d627c04-2af6-4e04-9705-0609a480640e",
   "metadata": {},
   "outputs": [],
   "source": [
    "import time\n",
    "import unittest\n",
    "\n",
    "import casadi\n",
    "import example_robot_data as robex\n",
    "import numpy as np\n",
    "import pinocchio as pin\n",
    "from numpy.linalg import norm\n",
    "from pinocchio import casadi as cpin\n",
    "from scipy.optimize import fmin_bfgs\n",
    "\n",
    "from utils.meshcat_viewer_wrapper import MeshcatVisualizer"
   ]
  },
  {
   "cell_type": "code",
   "execution_count": 2,
   "id": "4d677013-3626-4b34-9e93-737e812960e4",
   "metadata": {
    "editable": true,
    "slideshow": {
     "slide_type": ""
    },
    "tags": []
   },
   "outputs": [
    {
     "name": "stderr",
     "output_type": "stream",
     "text": [
      "/Users/zhangjixiang/Code/jnrh2023/myenv/lib/python3.11/site-packages/cmeel.prefix/lib/python3.11/site-packages/example_robot_data/robots_loader.py:319: UserWarning: Deprecated member. Use Frame.parentJoint instead.\n",
      "  if f.parent < legMaxId:\n"
     ]
    },
    {
     "name": "stdout",
     "output_type": "stream",
     "text": [
      "You can open the visualizer by visiting the following URL:\n",
      "http://127.0.0.1:7001/static/\n"
     ]
    },
    {
     "data": {
      "text/html": [
       "\n",
       "            <div style=\"height: 400px; width: 100%; overflow-x: auto; overflow-y: hidden; resize: both\">\n",
       "            <iframe src=\"http://127.0.0.1:7001/static/\" style=\"width: 100%; height: 100%; border: none\"></iframe>\n",
       "            </div>\n",
       "            "
      ],
      "text/plain": [
       "<IPython.core.display.HTML object>"
      ]
     },
     "execution_count": 2,
     "metadata": {},
     "output_type": "execute_result"
    }
   ],
   "source": [
    "robot = robex.load(\"talos_legs\")\n",
    "# Open the viewer\n",
    "viz = MeshcatVisualizer(robot)\n",
    "viz.display(robot.q0)\n",
    "viz.viewer.jupyter_cell()"
   ]
  },
  {
   "cell_type": "code",
   "execution_count": 3,
   "id": "54211d67-e415-4a9f-be4f-8827b3f946c3",
   "metadata": {},
   "outputs": [],
   "source": [
    "from pinocchio.utils import eye\n",
    "\n",
    "model = robot.model\n",
    "left_jID = model.getJointId(\"leg_left_6_joint\")\n",
    "right_jID = model.getJointId(\"leg_right_6_joint\")\n",
    "model.addFrame(pin.Frame('left_contact_point_1', left_jID, pin.SE3(\n",
    "    eye(3), np.matrix([.1,  .06, -0.1]).T), pin.FrameType.OP_FRAME))\n",
    "model.addFrame(pin.Frame('left_contact_point_2', left_jID, pin.SE3(\n",
    "    eye(3), np.matrix([-.1,  .06, -0.1]).T), pin.FrameType.OP_FRAME))\n",
    "model.addFrame(pin.Frame('left_contact_point_3', left_jID, pin.SE3(\n",
    "    eye(3), np.matrix([-.1, -.06, -0.1]).T), pin.FrameType.OP_FRAME))\n",
    "model.addFrame(pin.Frame('left_contact_point_4', left_jID, pin.SE3(\n",
    "    eye(3), np.matrix([.1, -.06, -0.1]).T), pin.FrameType.OP_FRAME))\n",
    "model.addFrame(pin.Frame('right_contact_point_1', right_jID, pin.SE3(\n",
    "    eye(3), np.matrix([.1,  .06, -0.1]).T), pin.FrameType.OP_FRAME))\n",
    "model.addFrame(pin.Frame('right_contact_point_2', right_jID, pin.SE3(\n",
    "    eye(3), np.matrix([-.1,  .06, -0.1]).T), pin.FrameType.OP_FRAME))\n",
    "model.addFrame(pin.Frame('right_contact_point_3', right_jID, pin.SE3(\n",
    "    eye(3), np.matrix([-.1, -.06, -0.1]).T), pin.FrameType.OP_FRAME))\n",
    "model.addFrame(pin.Frame('right_contact_point_4', right_jID, pin.SE3(\n",
    "    eye(3), np.matrix([.1, -.06, -0.1]).T), pin.FrameType.OP_FRAME))\n",
    "data = model.createData()"
   ]
  },
  {
   "cell_type": "code",
   "execution_count": 4,
   "id": "c70292fd-d3d7-4162-ae52-79f39f64fc27",
   "metadata": {},
   "outputs": [],
   "source": [
    "contact_names = [\"left_contact_point_1\", \"left_contact_point_2\", \"left_contact_point_3\", \"left_contact_point_4\",\n",
    "                 \"right_contact_point_1\", \"right_contact_point_2\", \"right_contact_point_3\", \"right_contact_point_4\"]\n",
    "# Add a vizualization for the target\n",
    "for i in range(8):\n",
    "    cID = \"world/\" + contact_names[i]\n",
    "    viz.addSphere(cID, 0.02, [1.0, 0.2, 0.2, 0.5])\n",
    "    pin.framesForwardKinematics(model, data, robot.q0)\n",
    "    viz.applyConfiguration(cID, data.oMf[model.getFrameId(contact_names[i])])"
   ]
  },
  {
   "cell_type": "code",
   "execution_count": 5,
   "id": "c1b0296c-1070-4436-946c-03cf7a12646d",
   "metadata": {},
   "outputs": [
    {
     "name": "stdout",
     "output_type": "stream",
     "text": [
      "Get Graphs Done.\n"
     ]
    }
   ],
   "source": [
    "# --- Casadi helpers\n",
    "cmodel = cpin.Model(model)\n",
    "cdata = cmodel.createData()\n",
    "\n",
    "nq = model.nq\n",
    "nv = model.nv\n",
    "cq = casadi.SX.sym(\"q\", nq, 1)\n",
    "cv = casadi.SX.sym(\"v\", nv, 1)\n",
    "\n",
    "# Compute kinematics casadi graphs\n",
    "cpin.forwardKinematics(cmodel, cdata, cq)\n",
    "cpin.updateFramePlacements(cmodel, cdata)\n",
    "# Compute com casadi graphs\n",
    "cpin.centerOfMass(cmodel, cdata, cq)\n",
    "# Compute centroidal momentum casadi graphs\n",
    "cpin.ccrba(cmodel, cdata, cq, cv)\n",
    "print(\"Get Graphs Done.\")"
   ]
  },
  {
   "cell_type": "code",
   "execution_count": 6,
   "id": "0291a8f3-ba80-48e1-b2f5-c22da3641e63",
   "metadata": {},
   "outputs": [],
   "source": [
    "# Sym graph for the integration operation q,dq -> q(+)dq = model.integrate(q,dq)\n",
    "cintegrate = casadi.Function(\n",
    "    \"integrate\",\n",
    "    [cq, cv],\n",
    "    [cpin.integrate(cmodel, cq, cv)]\n",
    ")"
   ]
  },
  {
   "cell_type": "code",
   "execution_count": 7,
   "id": "20dc91a8-4cea-42d7-ac09-50d2d2da1e75",
   "metadata": {},
   "outputs": [],
   "source": [
    "contacts_fk_list = []\n",
    "for i in range(8):\n",
    "    endEffector_ID = model.getFrameId(contact_names[i])\n",
    "    contacts_fk_list.append(casadi.Function(\n",
    "        contact_names[i]+\"Fun\",\n",
    "        [cq],\n",
    "        [cdata.oMf[endEffector_ID].translation]\n",
    "    ))"
   ]
  },
  {
   "cell_type": "code",
   "execution_count": 8,
   "id": "421a0998-1e36-47c5-95bb-30b7af13bc00",
   "metadata": {},
   "outputs": [],
   "source": [
    "h = casadi.Function(\n",
    "    \"hFun\",\n",
    "    [cq, cv],\n",
    "    [cdata.hg.angular]\n",
    ")"
   ]
  },
  {
   "cell_type": "code",
   "execution_count": 9,
   "id": "cb62de31-68a2-46fc-842c-c82998c2ff5e",
   "metadata": {},
   "outputs": [],
   "source": [
    "com = casadi.Function(\n",
    "    \"comFun\",\n",
    "    [cq],\n",
    "    [cdata.com[0]]\n",
    ")"
   ]
  },
  {
   "cell_type": "code",
   "execution_count": 10,
   "id": "430e2c75-e352-44b4-bc4a-cf717763d410",
   "metadata": {},
   "outputs": [
    {
     "name": "stdout",
     "output_type": "stream",
     "text": [
      "com =  [0.0034147, 0.00228237, 0.618288]\n",
      "h =  [0, 0, 0]\n",
      "left_contact_point_1 [0.091153, 0.144829, 0.00689549]\n",
      "left_contact_point_2 [-0.108847, 0.144829, 0.00689549]\n",
      "left_contact_point_3 [-0.108847, 0.0248293, 0.00710045]\n",
      "left_contact_point_4 [0.091153, 0.0248293, 0.00710045]\n",
      "right_contact_point_1 [0.091153, -0.0251709, 0.00689549]\n",
      "right_contact_point_2 [-0.108847, -0.0251709, 0.00689549]\n",
      "right_contact_point_3 [-0.108847, -0.145171, 0.00710045]\n",
      "right_contact_point_4 [0.091153, -0.145171, 0.00710045]\n"
     ]
    }
   ],
   "source": [
    "print(\"com = \", com(robot.q0))\n",
    "print(\"h = \", h(robot.q0, np.zeros(nv)))\n",
    "for i in range(8):\n",
    "    print(contact_names[i], contacts_fk_list[i](robot.q0))"
   ]
  },
  {
   "cell_type": "code",
   "execution_count": 11,
   "id": "91f0fdc9-6cef-4521-8dcd-0a805aeae637",
   "metadata": {},
   "outputs": [],
   "source": [
    "N = 31\n",
    "opti = casadi.Opti()\n",
    "var_dq = [opti.variable(robot.nv) for t in range(N)]\n",
    "var_q = [cintegrate(robot.q0, dq) for dq in var_dq]\n",
    "var_v = [opti.variable(robot.nv) for t in range(N)]\n",
    "var_t = [opti.variable(1) for t in range(N)]\n",
    "var_r = [com(q) for q in var_q]\n",
    "var_dr = [opti.variable(3) for t in range(N)]\n",
    "var_ddr = [opti.variable(3) for t in range(N)]\n",
    "var_c = [[contacts_fk_list[i](q) for i in range(8)]\n",
    "         for q in var_q]   # len(var_c) == N\n",
    "var_F = [[opti.variable(3) for i in range(8)]\n",
    "         for t in range(N)]  # len(var_F) == N\n",
    "var_h = [h(var_q[t], var_v[t]) for t in range(N)]\n",
    "var_dh = [opti.variable(3) for t in range(N)]"
   ]
  }
 ],
 "metadata": {
  "kernelspec": {
   "display_name": "myenv",
   "language": "python",
   "name": "myenv"
  },
  "language_info": {
   "codemirror_mode": {
    "name": "ipython",
    "version": 3
   },
   "file_extension": ".py",
   "mimetype": "text/x-python",
   "name": "python",
   "nbconvert_exporter": "python",
   "pygments_lexer": "ipython3",
   "version": "3.11.2"
  },
  "widgets": {
   "application/vnd.jupyter.widget-state+json": {
    "state": {},
    "version_major": 2,
    "version_minor": 0
   }
  }
 },
 "nbformat": 4,
 "nbformat_minor": 5
}
