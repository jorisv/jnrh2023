{
 "cells": [
  {
   "cell_type": "code",
   "execution_count": 1,
   "id": "5d627c04-2af6-4e04-9705-0609a480640e",
   "metadata": {},
   "outputs": [],
   "source": [
    "import time\n",
    "import unittest\n",
    "\n",
    "import casadi\n",
    "import example_robot_data as robex\n",
    "import numpy as np\n",
    "import pinocchio as pin\n",
    "from numpy.linalg import norm\n",
    "from pinocchio import casadi as cpin\n",
    "from scipy.optimize import fmin_bfgs\n",
    "\n",
    "from utils.meshcat_viewer_wrapper import MeshcatVisualizer"
   ]
  },
  {
   "cell_type": "code",
   "execution_count": 2,
   "id": "4d677013-3626-4b34-9e93-737e812960e4",
   "metadata": {},
   "outputs": [
    {
     "name": "stderr",
     "output_type": "stream",
     "text": [
      "/home/matheecs/Code/jnrh2023/myenv/lib/python3.10/site-packages/cmeel.prefix/lib/python3.10/site-packages/example_robot_data/robots_loader.py:319: UserWarning: Deprecated member. Use Frame.parentJoint instead.\n",
      "  if f.parent < legMaxId:\n"
     ]
    },
    {
     "name": "stdout",
     "output_type": "stream",
     "text": [
      "You can open the visualizer by visiting the following URL:\n",
      "http://127.0.0.1:7003/static/\n"
     ]
    }
   ],
   "source": [
    "robot = robex.load(\"talos_legs\")\n",
    "# Open the viewer\n",
    "viz = MeshcatVisualizer(robot)\n",
    "viz.display(robot.q0)\n",
    "\n",
    "# The pinocchio model is what we are really interested by.\n",
    "model = robot.model"
   ]
  },
  {
   "cell_type": "code",
   "execution_count": 3,
   "id": "54211d67-e415-4a9f-be4f-8827b3f946c3",
   "metadata": {},
   "outputs": [],
   "source": [
    "from pinocchio.utils import eye\n",
    "\n",
    "left_jID = model.getJointId(\"leg_left_6_joint\")\n",
    "right_jID = model.getJointId(\"leg_right_6_joint\")\n",
    "model.addFrame(pin.Frame('left_contact_point_1', left_jID, pin.SE3(\n",
    "    eye(3), np.matrix([.1,  .06, -0.1]).T), pin.FrameType.OP_FRAME))\n",
    "model.addFrame(pin.Frame('left_contact_point_2', left_jID, pin.SE3(\n",
    "    eye(3), np.matrix([-.1,  .06, -0.1]).T), pin.FrameType.OP_FRAME))\n",
    "model.addFrame(pin.Frame('left_contact_point_3', left_jID, pin.SE3(\n",
    "    eye(3), np.matrix([-.1, -.06, -0.1]).T), pin.FrameType.OP_FRAME))\n",
    "model.addFrame(pin.Frame('left_contact_point_4', left_jID, pin.SE3(\n",
    "    eye(3), np.matrix([.1, -.06, -0.1]).T), pin.FrameType.OP_FRAME))\n",
    "model.addFrame(pin.Frame('right_contact_point_1', right_jID, pin.SE3(\n",
    "    eye(3), np.matrix([.1,  .06, -0.1]).T), pin.FrameType.OP_FRAME))\n",
    "model.addFrame(pin.Frame('right_contact_point_2', right_jID, pin.SE3(\n",
    "    eye(3), np.matrix([-.1,  .06, -0.1]).T), pin.FrameType.OP_FRAME))\n",
    "model.addFrame(pin.Frame('right_contact_point_3', right_jID, pin.SE3(\n",
    "    eye(3), np.matrix([-.1, -.06, -0.1]).T), pin.FrameType.OP_FRAME))\n",
    "model.addFrame(pin.Frame('right_contact_point_4', right_jID, pin.SE3(\n",
    "    eye(3), np.matrix([.1, -.06, -0.1]).T), pin.FrameType.OP_FRAME))\n",
    "data = model.createData()"
   ]
  },
  {
   "cell_type": "code",
   "execution_count": 4,
   "id": "c70292fd-d3d7-4162-ae52-79f39f64fc27",
   "metadata": {},
   "outputs": [],
   "source": [
    "contact_names = [\"left_contact_point_1\", \"left_contact_point_2\", \"left_contact_point_3\", \"left_contact_point_4\",\n",
    "                 \"right_contact_point_1\", \"right_contact_point_2\", \"right_contact_point_3\", \"right_contact_point_4\"]\n",
    "# Add a vizualization for the target\n",
    "for i in range(8):\n",
    "    cID = \"world/\" + contact_names[i]\n",
    "    viz.addSphere(cID, 0.02, [1.0, 0.2, 0.2, 0.5])\n",
    "    pin.framesForwardKinematics(model, data, robot.q0)\n",
    "    viz.applyConfiguration(cID, data.oMf[model.getFrameId(contact_names[i])])"
   ]
  },
  {
   "cell_type": "code",
   "execution_count": 5,
   "id": "c1b0296c-1070-4436-946c-03cf7a12646d",
   "metadata": {},
   "outputs": [],
   "source": [
    "# --- Casadi helpers\n",
    "cmodel = cpin.Model(model)\n",
    "cdata = cmodel.createData()\n",
    "\n",
    "nq = model.nq\n",
    "nv = model.nv\n",
    "cq = casadi.SX.sym(\"q\", nq, 1)\n",
    "cv = casadi.SX.sym(\"v\", nv, 1)\n",
    "\n",
    "# Compute kinematics casadi graphs\n",
    "cpin.forwardKinematics(cmodel, cdata, cq)\n",
    "cpin.updateFramePlacements(cmodel, cdata)\n",
    "# Compute com casadi graphs\n",
    "cpin.centerOfMass(cmodel, cdata, cq)\n",
    "# Compute centroidal momentum casadi graphs\n",
    "cpin.ccrba(cmodel, cdata, cq, cv)\n",
    "pass"
   ]
  },
  {
   "cell_type": "code",
   "execution_count": 6,
   "id": "0291a8f3-ba80-48e1-b2f5-c22da3641e63",
   "metadata": {},
   "outputs": [],
   "source": [
    "# Sym graph for the integration operation q,dq -> q(+)dq = model.integrate(q,dq)\n",
    "cintegrate = casadi.Function(\n",
    "    \"integrate\",\n",
    "    [cq, cv],\n",
    "    [cpin.integrate(cmodel, cq, cv)]\n",
    ")"
   ]
  }
 ],
 "metadata": {
  "kernelspec": {
   "display_name": "myenv",
   "language": "python",
   "name": "myenv"
  },
  "language_info": {
   "codemirror_mode": {
    "name": "ipython",
    "version": 3
   },
   "file_extension": ".py",
   "mimetype": "text/x-python",
   "name": "python",
   "nbconvert_exporter": "python",
   "pygments_lexer": "ipython3",
   "version": "3.10.10"
  }
 },
 "nbformat": 4,
 "nbformat_minor": 5
}
